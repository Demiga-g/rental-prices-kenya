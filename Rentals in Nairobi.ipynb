{
 "cells": [
  {
   "cell_type": "markdown",
   "id": "83cfbd05",
   "metadata": {},
   "source": [
    "# **Kenya Housing Value Details**\n",
    "\n",
    "Among the worst hit sectors due to Covid-19 was the real estate. According to the data provided by the [Kenya Property Center](https://kenyapropertycentre.com/market-trends/average-prices), Nairobi tops the list of county with an average high of KSh 70,000 per month in rental houses followed by Mombasa and Kilifi with an average of KSh 40,000 per month. Based on towns, Lavington, Karen, an Westlands top the list with an average monthly rental charges of KSh 210K, KSh 150K, and 130K respectively. The dataset of interest is obtained [here](https://www.kaggle.com/datasets/iamasteriix/rental-apartments-in-kenya)."
   ]
  },
  {
   "cell_type": "code",
   "execution_count": 76,
   "id": "29d63f1d",
   "metadata": {
    "ExecuteTime": {
     "end_time": "2022-07-07T10:12:54.532938Z",
     "start_time": "2022-07-07T10:12:46.345605Z"
    },
    "scrolled": true
   },
   "outputs": [
    {
     "data": {
      "text/html": [
       "<div>\n",
       "<style scoped>\n",
       "    .dataframe tbody tr th:only-of-type {\n",
       "        vertical-align: middle;\n",
       "    }\n",
       "\n",
       "    .dataframe tbody tr th {\n",
       "        vertical-align: top;\n",
       "    }\n",
       "\n",
       "    .dataframe thead th {\n",
       "        text-align: right;\n",
       "    }\n",
       "</style>\n",
       "<table border=\"1\" class=\"dataframe\">\n",
       "  <thead>\n",
       "    <tr style=\"text-align: right;\">\n",
       "      <th></th>\n",
       "      <th>Agency</th>\n",
       "      <th>Neighborhood</th>\n",
       "      <th>Price</th>\n",
       "      <th>link</th>\n",
       "      <th>sq_mtrs</th>\n",
       "      <th>Bedrooms</th>\n",
       "      <th>Bathrooms</th>\n",
       "    </tr>\n",
       "  </thead>\n",
       "  <tbody>\n",
       "    <tr>\n",
       "      <th>0</th>\n",
       "      <td>Buy Rent Shelters</td>\n",
       "      <td>General Mathenge, Westlands</td>\n",
       "      <td>KSh 155,000</td>\n",
       "      <td>/listings/4-bedroom-apartment-for-rent-general...</td>\n",
       "      <td>4.0</td>\n",
       "      <td>4.0</td>\n",
       "      <td>4.0</td>\n",
       "    </tr>\n",
       "    <tr>\n",
       "      <th>1</th>\n",
       "      <td>Kenya Classic Homes</td>\n",
       "      <td>Kilimani, Dagoretti North</td>\n",
       "      <td>KSh 100,000</td>\n",
       "      <td>/listings/3-bedroom-apartment-for-rent-kiliman...</td>\n",
       "      <td>300.0</td>\n",
       "      <td>3.0</td>\n",
       "      <td>4.0</td>\n",
       "    </tr>\n",
       "    <tr>\n",
       "      <th>2</th>\n",
       "      <td>Absolute Estate Agents</td>\n",
       "      <td>Hatheru Rd,, Lavington, Dagoretti North</td>\n",
       "      <td>KSh 75,000</td>\n",
       "      <td>/listings/3-bedroom-apartment-for-rent-lavingt...</td>\n",
       "      <td>3.0</td>\n",
       "      <td>3.0</td>\n",
       "      <td>5.0</td>\n",
       "    </tr>\n",
       "    <tr>\n",
       "      <th>3</th>\n",
       "      <td>A1 Properties Limited</td>\n",
       "      <td>Kilimani, Dagoretti North</td>\n",
       "      <td>KSh 135,000</td>\n",
       "      <td>/listings/3-bedroom-apartment-for-rent-kiliman...</td>\n",
       "      <td>227.0</td>\n",
       "      <td>3.0</td>\n",
       "      <td>4.0</td>\n",
       "    </tr>\n",
       "    <tr>\n",
       "      <th>4</th>\n",
       "      <td>Pmc Estates Limited</td>\n",
       "      <td>Imara Daima, Embakasi</td>\n",
       "      <td>KSh 50,000</td>\n",
       "      <td>/listings/3-bedroom-apartment-for-rent-imara-d...</td>\n",
       "      <td>3.0</td>\n",
       "      <td>3.0</td>\n",
       "      <td>NaN</td>\n",
       "    </tr>\n",
       "  </tbody>\n",
       "</table>\n",
       "</div>"
      ],
      "text/plain": [
       "                   Agency                             Neighborhood  \\\n",
       "0       Buy Rent Shelters              General Mathenge, Westlands   \n",
       "1     Kenya Classic Homes                Kilimani, Dagoretti North   \n",
       "2  Absolute Estate Agents  Hatheru Rd,, Lavington, Dagoretti North   \n",
       "3   A1 Properties Limited                Kilimani, Dagoretti North   \n",
       "4     Pmc Estates Limited                    Imara Daima, Embakasi   \n",
       "\n",
       "         Price                                               link  sq_mtrs  \\\n",
       "0  KSh 155,000  /listings/4-bedroom-apartment-for-rent-general...      4.0   \n",
       "1  KSh 100,000  /listings/3-bedroom-apartment-for-rent-kiliman...    300.0   \n",
       "2   KSh 75,000  /listings/3-bedroom-apartment-for-rent-lavingt...      3.0   \n",
       "3  KSh 135,000  /listings/3-bedroom-apartment-for-rent-kiliman...    227.0   \n",
       "4   KSh 50,000  /listings/3-bedroom-apartment-for-rent-imara-d...      3.0   \n",
       "\n",
       "   Bedrooms  Bathrooms  \n",
       "0       4.0        4.0  \n",
       "1       3.0        4.0  \n",
       "2       3.0        5.0  \n",
       "3       3.0        4.0  \n",
       "4       3.0        NaN  "
      ]
     },
     "execution_count": 76,
     "metadata": {},
     "output_type": "execute_result"
    }
   ],
   "source": [
    "import pandas as pd\n",
    "import numpy as np\n",
    "import seaborn as sns\n",
    "import matplotlib.pyplot as plt\n",
    "%matplotlib inline\n",
    "sns.set_style('whitegrid')\n",
    "import pingouin\n",
    "from scipy.stats import norm, t, levene, ttest_ind\n",
    "from statsmodels.stats import weightstats as stests, proportion\n",
    "from scipy import stats\n",
    "\n",
    "apt_rents = pd.read_csv('rent_apts.csv')\n",
    "apt_rents.head()"
   ]
  },
  {
   "cell_type": "markdown",
   "id": "b4cbcb43",
   "metadata": {},
   "source": [
    "# **Data Cleaning & Selection** \n",
    "\n",
    "From the data, the variables of interest are `Neighborhood`, `Price`, House size (`sq_mtrs`), number of bedrooms (`bedrooms`)and `bathrooms`. However, before analysis, some cleaning is in order. As a starting point, only two variables will be considered$-$`Neighborhood` and `Price`. The remaining adjustments will be considered as analysis goes by."
   ]
  },
  {
   "cell_type": "code",
   "execution_count": 2,
   "id": "85796551",
   "metadata": {
    "ExecuteTime": {
     "end_time": "2022-07-07T10:12:54.595901Z",
     "start_time": "2022-07-07T10:12:54.541935Z"
    },
    "scrolled": false
   },
   "outputs": [
    {
     "name": "stdout",
     "output_type": "stream",
     "text": [
      "<class 'pandas.core.frame.DataFrame'>\n",
      "RangeIndex: 1848 entries, 0 to 1847\n",
      "Data columns (total 7 columns):\n",
      " #   Column        Non-Null Count  Dtype  \n",
      "---  ------        --------------  -----  \n",
      " 0   Agency        1848 non-null   object \n",
      " 1   Neighborhood  1848 non-null   object \n",
      " 2   Price         1848 non-null   object \n",
      " 3   link          1848 non-null   object \n",
      " 4   sq_mtrs       1846 non-null   float64\n",
      " 5   Bedrooms      1845 non-null   float64\n",
      " 6   Bathrooms     1557 non-null   float64\n",
      "dtypes: float64(3), object(4)\n",
      "memory usage: 101.2+ KB\n"
     ]
    }
   ],
   "source": [
    "apt_rents.info()"
   ]
  },
  {
   "cell_type": "markdown",
   "id": "c5e1fe33",
   "metadata": {},
   "source": [
    "## Neighborhood to Region\n",
    "\n",
    "The `Neighborhood` variable contains the location of these houses. \n",
    "\n",
    "- A look at these values shows that there are over 600 unique places. However, the interest is on specific locations."
   ]
  },
  {
   "cell_type": "code",
   "execution_count": 3,
   "id": "5cc698ff",
   "metadata": {
    "ExecuteTime": {
     "end_time": "2022-07-07T10:12:54.627883Z",
     "start_time": "2022-07-07T10:12:54.605896Z"
    },
    "scrolled": true
   },
   "outputs": [
    {
     "data": {
      "text/plain": [
       "647"
      ]
     },
     "execution_count": 3,
     "metadata": {},
     "output_type": "execute_result"
    }
   ],
   "source": [
    "len(apt_rents.Neighborhood.unique())"
   ]
  },
  {
   "cell_type": "markdown",
   "id": "fab52b34",
   "metadata": {},
   "source": [
    "Here, we create a column `region`. This column will contain the constituency name with a few exceptions of places like 'Mombasa Rd' among others. Now out of 647 unique `Neighborhoods` there are only 37 unique neighborhoods stored in the column `region`. Note that whitespace is removed."
   ]
  },
  {
   "cell_type": "code",
   "execution_count": 4,
   "id": "d6ef1f69",
   "metadata": {
    "ExecuteTime": {
     "end_time": "2022-07-07T10:12:54.675853Z",
     "start_time": "2022-07-07T10:12:54.637877Z"
    }
   },
   "outputs": [
    {
     "name": "stdout",
     "output_type": "stream",
     "text": [
      "number of regions: 37 \n",
      "\n",
      "['Westlands' 'Dagoretti North' 'Embakasi' 'Thika Road' 'Thindigua' 'Nyali'\n",
      " 'Kiambaa' 'Kisauni' 'Dagoretti South' 'Kiambu Road' 'Roysambu' 'Kasarani'\n",
      " 'Kajiado North' 'Athi River' 'Ngong' 'Kikuyu' 'Ruiru' 'Kisumu Central'\n",
      " 'Kabete' 'Langata' 'Thika' 'Mombasa Road' 'Kisumu West' 'Thika East'\n",
      " 'Kilifi South' 'Ngong Road' 'Kiambu Town' 'Eldoret North'\n",
      " 'Kiambu Constituency' 'Starehe' 'Makadara' 'Kangundo' 'Mombasa CBD'\n",
      " 'Milimani' 'Mvita' 'Muthaiga' 'Ruaraka']\n"
     ]
    }
   ],
   "source": [
    "get_region = lambda x: x.rpartition(',')[-1]\n",
    "remove_space = lambda x: x.strip()\n",
    "\n",
    "apt_rents['region'] = apt_rents.Neighborhood\\\n",
    "                .apply(get_region)\\\n",
    "                .apply(remove_space)\n",
    "\n",
    "print('number of regions:', len(apt_rents.region.unique()), '\\n')\n",
    "print(apt_rents.region.unique())"
   ]
  },
  {
   "cell_type": "markdown",
   "id": "c6262941",
   "metadata": {},
   "source": [
    "## Rental Prices\n",
    "\n",
    "The `Price` variables also need some adjustments to convert it from an `Object` data type to integer.\n",
    "\n",
    "- To do this the comma and the `KSh` currency symbol are removed."
   ]
  },
  {
   "cell_type": "code",
   "execution_count": 5,
   "id": "84ad0844",
   "metadata": {
    "ExecuteTime": {
     "end_time": "2022-07-07T10:12:54.723823Z",
     "start_time": "2022-07-07T10:12:54.690843Z"
    }
   },
   "outputs": [
    {
     "name": "stdout",
     "output_type": "stream",
     "text": [
      "0    155000\n",
      "1    100000\n",
      "2     75000\n",
      "3    135000\n",
      "4     50000\n",
      "Name: rental_price, dtype: int64\n"
     ]
    }
   ],
   "source": [
    "remove_character = lambda x: x.translate({ord(c): None for c in \",KSh\"})\n",
    "\n",
    "apt_rents['rental_price'] = apt_rents.Price\\\n",
    "        .apply(remove_character)\\\n",
    "        .astype('int64')\n",
    "\n",
    "print(apt_rents.rental_price.head())\n",
    "assert apt_rents.rental_price.dtype == 'int64'"
   ]
  },
  {
   "cell_type": "markdown",
   "id": "d88d27e1",
   "metadata": {},
   "source": [
    "## Data Selection\n",
    "\n",
    "The variables `Agency` and `link` won't be of use in this analysis but they provide some useful information to buyers. \n",
    "\n",
    "- Onwards, the data for analysis is stored in `rental_aprt` DataFrame."
   ]
  },
  {
   "cell_type": "code",
   "execution_count": 6,
   "id": "fd5f4318",
   "metadata": {
    "ExecuteTime": {
     "end_time": "2022-07-07T10:12:54.771793Z",
     "start_time": "2022-07-07T10:12:54.737814Z"
    },
    "scrolled": false
   },
   "outputs": [
    {
     "name": "stdout",
     "output_type": "stream",
     "text": [
      "            region  rental_price  sq_mtrs  Bedrooms  Bathrooms\n",
      "0        Westlands        155000      4.0       4.0        4.0\n",
      "1  Dagoretti North        100000    300.0       3.0        4.0\n",
      "2  Dagoretti North         75000      3.0       3.0        5.0\n",
      "3  Dagoretti North        135000    227.0       3.0        4.0\n",
      "4         Embakasi         50000      3.0       3.0        NaN\n"
     ]
    }
   ],
   "source": [
    "rental_aprt = apt_rents[['region', 'rental_price', \n",
    "                         'sq_mtrs', 'Bedrooms', \n",
    "                         'Bathrooms']]\n",
    "print(rental_aprt.head())"
   ]
  },
  {
   "cell_type": "markdown",
   "id": "1019e333",
   "metadata": {},
   "source": [
    "## Further Selection\n",
    "\n",
    "This analysis will be based on regions. Therefore, to use parametric analysis, each `region` should have about 30 entries across the variables. \n",
    "\n",
    "- Going by this assumptions, only 6 regions meet the requirement."
   ]
  },
  {
   "cell_type": "code",
   "execution_count": 7,
   "id": "874dda7e",
   "metadata": {
    "ExecuteTime": {
     "end_time": "2022-07-07T10:12:54.803775Z",
     "start_time": "2022-07-07T10:12:54.781786Z"
    }
   },
   "outputs": [
    {
     "name": "stdout",
     "output_type": "stream",
     "text": [
      "Count of regions with more than 30 entries: 6\n"
     ]
    }
   ],
   "source": [
    "thirty_more = (rental_aprt.region.value_counts() >= 30).sum()\n",
    "print(f'Count of regions with more than 30 entries: {thirty_more}')"
   ]
  },
  {
   "cell_type": "markdown",
   "id": "b1a54b1e",
   "metadata": {},
   "source": [
    "Therefore, sub-setting is in order. Here, a list that contains regions with 30 entries across the variables, `thirty_entries` is obtained and then used to subset the DataFrame. Note that the local variable `thirty_more` which was defined previously is used to obtain only the names of regions which met the 30 data entries threshold. \n",
    "\n",
    "- It is evident that about 150 of the data entries did not meet the minimum requirement size of 30. "
   ]
  },
  {
   "cell_type": "code",
   "execution_count": 8,
   "id": "f7bdfecc",
   "metadata": {
    "ExecuteTime": {
     "end_time": "2022-07-07T10:12:54.849746Z",
     "start_time": "2022-07-07T10:12:54.813768Z"
    },
    "scrolled": true
   },
   "outputs": [
    {
     "name": "stdout",
     "output_type": "stream",
     "text": [
      "(1698, 5)\n",
      "            region  rental_price  sq_mtrs  Bedrooms  Bathrooms\n",
      "0        Westlands        155000      4.0       4.0        4.0\n",
      "1  Dagoretti North        100000    300.0       3.0        4.0\n",
      "2  Dagoretti North         75000      3.0       3.0        5.0\n",
      "3  Dagoretti North        135000    227.0       3.0        4.0\n",
      "5        Westlands        150000      2.0       2.0        NaN\n"
     ]
    }
   ],
   "source": [
    "thirty_entries = rental_aprt.region\\\n",
    "                .value_counts()\\\n",
    "                .index\\\n",
    "                .to_list()[:thirty_more]\n",
    "\n",
    "rental_aprt = rental_aprt[rental_aprt.region.isin(thirty_entries)]\n",
    "print(rental_aprt.shape)\n",
    "print(rental_aprt.head())"
   ]
  },
  {
   "cell_type": "markdown",
   "id": "a735ae22",
   "metadata": {},
   "source": [
    "## Handling Missing Values\n",
    "\n",
    "- Checking the missing values it is evident that `Bedrooms` and `sq_mtrs` have 3 and 2 missing values respectively. However, `Bathroom` has a large number of missing values 262."
   ]
  },
  {
   "cell_type": "code",
   "execution_count": 9,
   "id": "b9c3084e",
   "metadata": {
    "ExecuteTime": {
     "end_time": "2022-07-07T10:12:54.880728Z",
     "start_time": "2022-07-07T10:12:54.858740Z"
    }
   },
   "outputs": [
    {
     "data": {
      "text/plain": [
       "region            0\n",
       "rental_price      0\n",
       "sq_mtrs           2\n",
       "Bedrooms          3\n",
       "Bathrooms       262\n",
       "dtype: int64"
      ]
     },
     "execution_count": 9,
     "metadata": {},
     "output_type": "execute_result"
    }
   ],
   "source": [
    "rental_aprt.isna().sum()"
   ]
  },
  {
   "cell_type": "markdown",
   "id": "52af01ea",
   "metadata": {},
   "source": [
    "To handle this, the `region` column is dropped and an imputer used to compute a value for the median number of `sq_mtrs`, `bedrooms`, and `bathrooms`. \n",
    "\n",
    "$\\checkmark$ Median used because it is robust when it comes to outliers. "
   ]
  },
  {
   "cell_type": "code",
   "execution_count": 10,
   "id": "8bc0d3cc",
   "metadata": {
    "ExecuteTime": {
     "end_time": "2022-07-07T10:12:54.912709Z",
     "start_time": "2022-07-07T10:12:54.891719Z"
    }
   },
   "outputs": [],
   "source": [
    "rental_aprt.fillna(rental_aprt.drop('region', axis=1).median(),\\\n",
    "                   inplace=True)"
   ]
  },
  {
   "cell_type": "markdown",
   "id": "2c9172fe",
   "metadata": {},
   "source": [
    "- However, the data type is `Object` which presents some challenges during analysis. Therefore, it has to be converted to categorical data."
   ]
  },
  {
   "cell_type": "code",
   "execution_count": 11,
   "id": "82a3634f",
   "metadata": {
    "ExecuteTime": {
     "end_time": "2022-07-07T10:12:54.944688Z",
     "start_time": "2022-07-07T10:12:54.917704Z"
    }
   },
   "outputs": [
    {
     "name": "stdout",
     "output_type": "stream",
     "text": [
      "            region  rental_price  sq_mtrs  Bedrooms  Bathrooms\n",
      "0        Westlands        155000      4.0       4.0        4.0\n",
      "1  Dagoretti North        100000    300.0       3.0        4.0\n",
      "2  Dagoretti North         75000      3.0       3.0        5.0\n",
      "3  Dagoretti North        135000    227.0       3.0        4.0\n",
      "5        Westlands        150000      2.0       2.0        2.0\n"
     ]
    }
   ],
   "source": [
    "rental_aprt['region'] = rental_aprt.region.astype('category')\n",
    "print(rental_aprt.head())"
   ]
  },
  {
   "cell_type": "markdown",
   "id": "b8dfa404",
   "metadata": {},
   "source": [
    "## Adding Features\n",
    "\n",
    "For illustrative purposes, we'll create two columns. One for bedrooms category, `bed_cat`, and the other for bathroom categories, `bath_cat`.\n",
    "\n",
    "- For `bed_cat` we'll split the categories to over 2 or $\\leq$ 2 bedrooms."
   ]
  },
  {
   "cell_type": "code",
   "execution_count": 59,
   "id": "eb091e6a",
   "metadata": {},
   "outputs": [],
   "source": [
    "rental_aprt['bed_cat'] = ['at least 2' if p >= 2 else 'under 2' for p in rental_aprt.Bedrooms]"
   ]
  },
  {
   "cell_type": "markdown",
   "id": "2a1d455c",
   "metadata": {},
   "source": [
    "- For `bath_cat` we split the categories to over 3 or $\\leq$ 3 bathrooms."
   ]
  },
  {
   "cell_type": "code",
   "execution_count": 60,
   "id": "7c290fca",
   "metadata": {},
   "outputs": [],
   "source": [
    "rental_aprt['bath_cat'] = ['at least 3' if p >= 3 else 'under 3' for p in rental_aprt.Bathrooms]"
   ]
  },
  {
   "cell_type": "markdown",
   "id": "f7b29c3d",
   "metadata": {},
   "source": [
    "# **Z-SCORE AND BOOTSTRAPPING**\n",
    "\n",
    "In this section we'll calculate z-score, a proportion test, using bootstraps."
   ]
  },
  {
   "cell_type": "markdown",
   "id": "3a9f6a23",
   "metadata": {},
   "source": [
    "## Formulating Hypothesis Statement From Point Estimates\n",
    "\n",
    "The hypothesized average rental prices in these 6 regions is KSh 100K. \n",
    "\n",
    "\n",
    "$$H_0: \\text{The average house rent price is KSh 100K}$$. \n",
    "\n",
    "$$H_A: \\text{The average house rent price is not KSh 100K.}$$"
   ]
  },
  {
   "cell_type": "markdown",
   "id": "2f57ad67",
   "metadata": {},
   "source": [
    "- This value is arrived at after finding the mean and median of the houses in these regions (the point estimates)."
   ]
  },
  {
   "cell_type": "code",
   "execution_count": 14,
   "id": "4d3e10af",
   "metadata": {
    "ExecuteTime": {
     "end_time": "2022-07-07T10:12:54.960677Z",
     "start_time": "2022-07-07T10:12:54.947685Z"
    }
   },
   "outputs": [
    {
     "name": "stdout",
     "output_type": "stream",
     "text": [
      "mean:  101368.95936395759\n",
      "median:  100000.0\n"
     ]
    }
   ],
   "source": [
    "print('mean: ', rental_aprt.rental_price.mean())\n",
    "print('median: ', rental_aprt.rental_price.median())\n",
    "hypothesized_price = 100000"
   ]
  },
  {
   "cell_type": "markdown",
   "id": "98ecddf7",
   "metadata": {},
   "source": [
    "- The significance level is set at 0.2. Since that this is a two tailed test, alpha is divided by 2 to get 0.1."
   ]
  },
  {
   "cell_type": "code",
   "execution_count": 15,
   "id": "262f0107",
   "metadata": {
    "ExecuteTime": {
     "end_time": "2022-07-07T10:12:54.976666Z",
     "start_time": "2022-07-07T10:12:54.964675Z"
    }
   },
   "outputs": [],
   "source": [
    "alpha = 0.2 / 2"
   ]
  },
  {
   "cell_type": "markdown",
   "id": "171c5489",
   "metadata": {},
   "source": [
    "## Computing z-score\n",
    "\n",
    "The average house price is about 101K which is slightly different from our hypothesized value of 100K. But is this value meaningfully different? \n",
    "\n",
    "- To answer this we'll calculate the z-score. First, a bootstrap sample is generated."
   ]
  },
  {
   "cell_type": "code",
   "execution_count": 16,
   "id": "230ee226",
   "metadata": {
    "ExecuteTime": {
     "end_time": "2022-07-07T10:12:56.196712Z",
     "start_time": "2022-07-07T10:12:54.980666Z"
    }
   },
   "outputs": [],
   "source": [
    "#np.random.seed(42)\n",
    "bootstrap_sample = []\n",
    "\n",
    "for _ in range(3000):\n",
    "    bootstrap = np.mean(rental_aprt.rental_price.sample(frac=1, replace=True))\n",
    "    bootstrap_sample.append(bootstrap)"
   ]
  },
  {
   "cell_type": "markdown",
   "id": "4360d543",
   "metadata": {},
   "source": [
    "### Visualzing the Means in Boostrap's Histogram\n",
    "\n",
    "Let's visualize our sample mean and hypothesized mean in this distribution in the bootstrap sample. \n",
    "\n",
    "- First the Bootstrap sample mean is calculated."
   ]
  },
  {
   "cell_type": "code",
   "execution_count": 17,
   "id": "c24141e7",
   "metadata": {
    "ExecuteTime": {
     "end_time": "2022-07-07T10:12:56.212712Z",
     "start_time": "2022-07-07T10:12:56.199717Z"
    }
   },
   "outputs": [
    {
     "data": {
      "text/plain": [
       "101406.2347738516"
      ]
     },
     "execution_count": 17,
     "metadata": {},
     "output_type": "execute_result"
    }
   ],
   "source": [
    "bootstrap_sample_mean = np.mean(bootstrap_sample)\n",
    "bootstrap_sample_mean"
   ]
  },
  {
   "cell_type": "markdown",
   "id": "77594f95",
   "metadata": {},
   "source": [
    "- Notice that the histogram is bell shaped, hence it's roughly normally distributed. Also, note that the hypothesized average house price is on the left of the distribution."
   ]
  },
  {
   "cell_type": "code",
   "execution_count": 18,
   "id": "46e061a5",
   "metadata": {
    "ExecuteTime": {
     "end_time": "2022-07-07T10:12:57.266611Z",
     "start_time": "2022-07-07T10:12:56.216708Z"
    }
   },
   "outputs": [
    {
     "data": {
      "image/png": "[encoded data removed]",
      "text/plain": [
       "<Figure size 432x288 with 1 Axes>"
      ]
     },
     "metadata": {},
     "output_type": "display_data"
    }
   ],
   "source": [
    "plt.hist(bootstrap_sample, color='grey')\n",
    "plt.axvline([bootstrap_sample_mean], label='sample average')\n",
    "plt.axvline([hypothesized_price], \n",
    "            label='hypothesized average',\n",
    "            color='r')\n",
    "plt.xlabel('House Prices (KSh)')\n",
    "plt.ylabel('Frequency')\n",
    "plt.legend()\n",
    "plt.show()"
   ]
  },
  {
   "cell_type": "markdown",
   "id": "5f652279",
   "metadata": {},
   "source": [
    "### Standardization\n",
    "\n",
    "Before performing a hypothesis test, we need to standardize the rental price values since variables have arbitrary units and ranges. For this hypothesis test, we use the z-score.\n",
    "\n",
    "$$z = \\frac{\\text{sample statistics - hypothesized parameter value}}{\\text{standard error}}$$\n",
    "\n",
    "All the values are already present except for the standard error which is calculated by getting the standard deviation of the bootstrap sample. After which, we'll substitute them into the equation. \n",
    "\n",
    "- Here, the standard error is about 900. "
   ]
  },
  {
   "cell_type": "code",
   "execution_count": 19,
   "id": "cd941b1e",
   "metadata": {
    "ExecuteTime": {
     "end_time": "2022-07-07T10:12:57.313613Z",
     "start_time": "2022-07-07T10:12:57.285602Z"
    }
   },
   "outputs": [
    {
     "data": {
      "text/plain": [
       "946.1624773979971"
      ]
     },
     "execution_count": 19,
     "metadata": {},
     "output_type": "execute_result"
    }
   ],
   "source": [
    "std_error = np.std(bootstrap_sample, ddof=1)\n",
    "std_error"
   ]
  },
  {
   "cell_type": "markdown",
   "id": "18a3a788",
   "metadata": {},
   "source": [
    "- The zscore is 1.49. Is this a big or a small number? Let's look at the p-value."
   ]
  },
  {
   "cell_type": "code",
   "execution_count": 20,
   "id": "1dd2e2d4",
   "metadata": {
    "ExecuteTime": {
     "end_time": "2022-07-07T10:12:57.329605Z",
     "start_time": "2022-07-07T10:12:57.317614Z"
    }
   },
   "outputs": [
    {
     "name": "stdout",
     "output_type": "stream",
     "text": [
      "1.4862508368740488\n"
     ]
    }
   ],
   "source": [
    "z_score = (bootstrap_sample_mean - hypothesized_price) / std_error\n",
    "print(z_score)"
   ]
  },
  {
   "cell_type": "markdown",
   "id": "8fa190b3",
   "metadata": {},
   "source": [
    "## Computing p-Value\n",
    "\n",
    "1. We can compute the p-value using `norm.cdf()`. p-value quantify how much evidence there is for the acceptance or rejection of the null hypothesis. This is a two-sided test.\n",
    "\n",
    "    - Note that with this formula p-value is calculated from the assumption that the test statistics lies in either tail. Therefore, we compute the sum of one value in the negative side and one value in the right tail"
   ]
  },
  {
   "cell_type": "code",
   "execution_count": 21,
   "id": "705abfc3",
   "metadata": {
    "ExecuteTime": {
     "end_time": "2022-07-07T15:35:08.536832Z",
     "start_time": "2022-07-07T15:35:08.510854Z"
    }
   },
   "outputs": [
    {
     "data": {
      "text/plain": [
       "0.13721278537273962"
      ]
     },
     "execution_count": 21,
     "metadata": {},
     "output_type": "execute_result"
    }
   ],
   "source": [
    "p_value1 = norm.cdf(-z_score) + (1 - norm.cdf(z_score))\n",
    "p_value1"
   ]
  },
  {
   "cell_type": "markdown",
   "id": "89942dc7",
   "metadata": {},
   "source": [
    "2. The second method is also applicable. There is a neglegable difference in the p-value calculated "
   ]
  },
  {
   "cell_type": "code",
   "execution_count": 22,
   "id": "26382797",
   "metadata": {},
   "outputs": [
    {
     "data": {
      "text/plain": [
       "0.13721278537273962"
      ]
     },
     "execution_count": 22,
     "metadata": {},
     "output_type": "execute_result"
    }
   ],
   "source": [
    "p_value2 = 2 * (1 - norm.cdf(z_score))\n",
    "p_value2"
   ]
  },
  {
   "cell_type": "markdown",
   "id": "2ea672b2",
   "metadata": {},
   "source": [
    "3. Alternatively, we can use `ztest()` from  `weightstats`. We'll pass our variable and since there is no second sample, we'll pass `None` to the parameter `x2` and the mean value of 100000 to the parameter `value`.\n",
    "\n",
    "- The `z_test` does not differ so much from the previously calculated `z_score` and now there is a computed `p_value`. "
   ]
  },
  {
   "cell_type": "code",
   "execution_count": 23,
   "id": "cbab021a",
   "metadata": {
    "ExecuteTime": {
     "end_time": "2022-07-07T10:12:57.360586Z",
     "start_time": "2022-07-07T10:12:57.334604Z"
    }
   },
   "outputs": [
    {
     "name": "stdout",
     "output_type": "stream",
     "text": [
      "z_test: 1.465575201031459, \n",
      "p_value: 0.14276405137026352\n"
     ]
    }
   ],
   "source": [
    "z_test, p_value3 = stests.ztest(rental_aprt.rental_price, \n",
    "                               x2=None, \n",
    "                               value=100000)\n",
    "print(f'''z_test: {z_test}, \n",
    "p_value: {p_value3}''')"
   ]
  },
  {
   "cell_type": "markdown",
   "id": "56bac832",
   "metadata": {},
   "source": [
    "## Making Decision\n",
    "\n",
    "The p-value is less than the alpha value. Therefore, we reject the null hypothesis. \n",
    "\n",
    "- Keep in mind that this result could be a false positive (Type I) error. That is, chosing $H_A$ when $H_0$ could be the right choice."
   ]
  },
  {
   "cell_type": "code",
   "execution_count": 24,
   "id": "2cbb45b0",
   "metadata": {
    "ExecuteTime": {
     "end_time": "2022-07-07T10:12:57.375576Z",
     "start_time": "2022-07-07T10:12:57.365584Z"
    }
   },
   "outputs": [
    {
     "name": "stdout",
     "output_type": "stream",
     "text": [
      "Accept null hypothesis\n"
     ]
    }
   ],
   "source": [
    "if p_value3 < alpha:\n",
    "    print('Reject null hypothesis')\n",
    "else:\n",
    "    print('Accept null hypothesis')"
   ]
  },
  {
   "cell_type": "markdown",
   "id": "40c503ff",
   "metadata": {},
   "source": [
    "### Computing the Confidence Interval\n",
    "\n",
    "Due to sampling variability, sample statistics are bound to be wrong by some amount. Here, the hypothesized value for rental prices is 100K while the calculated was 101K, so it is goo to state the confidence interval. Being that an $\\alpha$ of 0.2 was used, the confidence interval of $1 - \\alpha$ will be 80%. \n",
    "\n",
    "- With an 80% CI, the average rental prices is between KSh 100,213 and KSh 102,547. Therefore, since KSh 101K is included in the 80% CI and we had already accepted $H_0$ due to the large p-value, the confidence interval agrees with the outcome. Thus confirming that indeed there was no Type I error violation."
   ]
  },
  {
   "cell_type": "code",
   "execution_count": 25,
   "id": "135cf869",
   "metadata": {
    "ExecuteTime": {
     "end_time": "2022-07-07T10:12:57.407559Z",
     "start_time": "2022-07-07T10:12:57.380575Z"
    }
   },
   "outputs": [
    {
     "data": {
      "text/plain": [
       "(100182.88828032979, 102619.1633097762)"
      ]
     },
     "execution_count": 25,
     "metadata": {},
     "output_type": "execute_result"
    }
   ],
   "source": [
    "lower = np.quantile(bootstrap_sample, 0.1)\n",
    "upper = np.quantile(bootstrap_sample, 0.9)\n",
    "\n",
    "lower, upper"
   ]
  },
  {
   "cell_type": "markdown",
   "id": "d8cf0a02",
   "metadata": {},
   "source": [
    "$$.... \\text{ Next Task } ....$$"
   ]
  },
  {
   "cell_type": "markdown",
   "id": "62b74eb7",
   "metadata": {},
   "source": [
    "# **Z-SCORE NO BOOTSTRAPPING** \n",
    "\n",
    "Bootstrapping can be computationally expensive. Therefore, we'll calculate z-score using an equation. "
   ]
  },
  {
   "cell_type": "markdown",
   "id": "c3fe583a",
   "metadata": {},
   "source": [
    "## Formulating Hypothesis\n",
    "\n",
    "Suppose that under null hypothesis we assume that 95% of the houses have at least 2 bedrooms.\n",
    "\n",
    "$$H_0: \\text{Proportion of houses with at least 2 bedrooms = 0.95}$$\n",
    "\n",
    "$$H_1: \\text{Proportion of houses with at least 2 bedrooms} \\leq 0.95$$\n",
    "\n",
    "- If we check the proportion sample proportion we can see that almost 90% of the houses have atleast 2 bedrooms. But is this proportion difference between the hypothesized and sample proportions significant?"
   ]
  },
  {
   "cell_type": "code",
   "execution_count": 67,
   "id": "0b1ac252",
   "metadata": {
    "scrolled": true
   },
   "outputs": [
    {
     "data": {
      "text/plain": [
       "at least 2    0.899882\n",
       "under 2       0.100118\n",
       "Name: bed_cat, dtype: float64"
      ]
     },
     "execution_count": 67,
     "metadata": {},
     "output_type": "execute_result"
    }
   ],
   "source": [
    "rental_aprt.bed_cat.value_counts(normalize=True)"
   ]
  },
  {
   "cell_type": "markdown",
   "id": "0762d4d0",
   "metadata": {},
   "source": [
    "Setting an alpha of 0.01, we can use equation below to calculate the z-score:\n",
    "\n",
    "$$z = \\frac{\\hat{p} - p_0}{\\sqrt{\\frac{p_0 * (1 - p_0)}{n}}}$$"
   ]
  },
  {
   "cell_type": "code",
   "execution_count": 68,
   "id": "b2308001",
   "metadata": {},
   "outputs": [
    {
     "data": {
      "text/plain": [
       "at least 2    1528\n",
       "under 2        170\n",
       "Name: bed_cat, dtype: int64"
      ]
     },
     "execution_count": 68,
     "metadata": {},
     "output_type": "execute_result"
    }
   ],
   "source": [
    "rental_aprt.bed_cat.value_counts()"
   ]
  },
  {
   "cell_type": "markdown",
   "id": "0a20391e",
   "metadata": {},
   "source": [
    "## Calculating Z-Score\n",
    "\n",
    "- To calculate the z-score, we'll use the variables defined below and then insert them to the equation. `p_hat` which implies the sample proportion is 0.5942 while `p_0` which is the hypothesized proportion is 0.95. `n` is the number of entries in the dataset."
   ]
  },
  {
   "cell_type": "code",
   "execution_count": 69,
   "id": "9e8c1e31",
   "metadata": {
    "ExecuteTime": {
     "end_time": "2022-07-08T19:27:16.582614Z",
     "start_time": "2022-07-08T19:27:16.562629Z"
    }
   },
   "outputs": [],
   "source": [
    "p_hat = rental_aprt.bed_cat.value_counts(normalize=True)[0]\n",
    "p_0 = 0.95\n",
    "alpha = 0.01\n",
    "n = len(rental_aprt)"
   ]
  },
  {
   "cell_type": "markdown",
   "id": "7bb5b80a",
   "metadata": {},
   "source": [
    "- The z-score is -9.48. However, is this a significant score?"
   ]
  },
  {
   "cell_type": "code",
   "execution_count": 70,
   "id": "000556d1",
   "metadata": {
    "ExecuteTime": {
     "end_time": "2022-07-08T19:30:15.796568Z",
     "start_time": "2022-07-08T19:30:15.778577Z"
    }
   },
   "outputs": [
    {
     "data": {
      "text/plain": [
       "-9.475756941991802"
      ]
     },
     "execution_count": 70,
     "metadata": {},
     "output_type": "execute_result"
    }
   ],
   "source": [
    "numerator = p_hat - p_0\n",
    "denominator = np.sqrt((p_0 * (1 - p_0)) / n)\n",
    "z_beds = numerator / denominator\n",
    "z_beds"
   ]
  },
  {
   "cell_type": "markdown",
   "id": "44ad5530",
   "metadata": {},
   "source": [
    "## Determining and Interpreting Null Hypothesis\n",
    "\n",
    "- Being that this is a left-tailed test, we'll transform the z-score using `norm.cdf()`"
   ]
  },
  {
   "cell_type": "code",
   "execution_count": 71,
   "id": "e3a5039d",
   "metadata": {
    "ExecuteTime": {
     "end_time": "2022-07-08T19:32:21.503486Z",
     "start_time": "2022-07-08T19:32:21.478502Z"
    }
   },
   "outputs": [
    {
     "name": "stdout",
     "output_type": "stream",
     "text": [
      "1.32416775659706e-21\n",
      "reject null hypothesis\n"
     ]
    }
   ],
   "source": [
    "p_value4 = norm.cdf(z_beds)\n",
    "print(p_value4)\n",
    "\n",
    "if p_value4 <= alpha:\n",
    "    print('reject null hypothesis')\n",
    "else:\n",
    "    print('accept null hypothesis')"
   ]
  },
  {
   "cell_type": "markdown",
   "id": "719b9761",
   "metadata": {},
   "source": [
    "$\\checkmark$ Therefore, the conclusion is that there is a significant difference in sample proportion (0.90) and hypothesized proportion (0.95) of houses with at least 2 bedrooms."
   ]
  },
  {
   "cell_type": "markdown",
   "id": "9f8cefce",
   "metadata": {},
   "source": [
    "# **TWO PROPORTIONS Z-SCORE**\n",
    "\n",
    "In this section, we'll test the proportion difference between two sample as compared to the previous section where we calculated the proportion of a single sample against a specific value of 0.65."
   ]
  },
  {
   "cell_type": "markdown",
   "id": "1e913f75",
   "metadata": {},
   "source": [
    "## Formulating Null Hypothesis\n",
    "\n",
    "The data has `bed_cat` and `bath_cat` variables. We can hypothesize that the proportion of houses with under 3 bathrooms bedrooms is the same when compared in terms of bedroom category.\n",
    "\n",
    "$$H_0: \\text{Houses with under 3 bathrooms have equal proportions when compared in terms of bedroom category.}$$\n",
    "\n",
    "$$H_A: \\text{Houses with under 3 bathrooms don't have equal proportions when compared in terms of bedroom category.}$$\n",
    "\n",
    "Here, we'll also use an alpha of 0.01. Therefore, this will be a two-sided test."
   ]
  },
  {
   "cell_type": "markdown",
   "id": "8dab5085",
   "metadata": {},
   "source": [
    "## The Data\n",
    "\n",
    "- Let's look at how the data is arranged. Already it's evident that there is a proportion difference between houses with at least 2 bedrooms (0.53) and houses with under 2 bedrooms (1). But is this difference significant?"
   ]
  },
  {
   "cell_type": "code",
   "execution_count": 72,
   "id": "44af1c62",
   "metadata": {},
   "outputs": [
    {
     "data": {
      "text/plain": [
       "bed_cat     bath_cat  \n",
       "at least 2  under 3       0.532068\n",
       "            at least 3    0.467932\n",
       "under 2     under 3       1.000000\n",
       "Name: bath_cat, dtype: float64"
      ]
     },
     "execution_count": 72,
     "metadata": {},
     "output_type": "execute_result"
    }
   ],
   "source": [
    "rental_aprt.groupby('bed_cat')['bath_cat'].value_counts(normalize=True)"
   ]
  },
  {
   "cell_type": "markdown",
   "id": "f41c25fd",
   "metadata": {},
   "source": [
    "- Secondly, let's get the count for these groups. These are our number of observations (`n`) "
   ]
  },
  {
   "cell_type": "code",
   "execution_count": 80,
   "id": "68c660f2",
   "metadata": {},
   "outputs": [
    {
     "name": "stdout",
     "output_type": "stream",
     "text": [
      "bed_cat\n",
      "at least 2    1528\n",
      "under 2        170\n",
      "Name: bath_cat, dtype: int64\n"
     ]
    }
   ],
   "source": [
    "print(rental_aprt.groupby('bed_cat')['bath_cat'].count())\n",
    "n = np.array([1528, 170])"
   ]
  },
  {
   "cell_type": "markdown",
   "id": "e8b04292",
   "metadata": {},
   "source": [
    "- Working with `proportion.proportion_ztest()` from `statsmodels.stats` requires that the `count` and `nob` arguments be an array. Therefore, let's get the number of entries with under 3 bathrooms for houses in both bedroom categories."
   ]
  },
  {
   "cell_type": "code",
   "execution_count": 79,
   "id": "a27fed34",
   "metadata": {},
   "outputs": [
    {
     "name": "stdout",
     "output_type": "stream",
     "text": [
      "bed_cat     bath_cat  \n",
      "at least 2  under 3       813\n",
      "            at least 3    715\n",
      "under 2     under 3       170\n",
      "Name: bath_cat, dtype: int64\n"
     ]
    },
    {
     "data": {
      "text/plain": [
       "array([813, 170])"
      ]
     },
     "execution_count": 79,
     "metadata": {},
     "output_type": "execute_result"
    }
   ],
   "source": [
    "print(rental_aprt.groupby('bed_cat')['bath_cat'].value_counts())\n",
    "bed_bath_true = np.array([813, 170])\n",
    "bed_bath_true"
   ]
  },
  {
   "cell_type": "markdown",
   "id": "5346467d",
   "metadata": {},
   "source": [
    "## Calculating Z-Score and p-Value\n",
    "\n",
    "- It is important to recall that this is a two-sided test, therefore, the `alternative` argument will be set at `'two-sided'`."
   ]
  },
  {
   "cell_type": "code",
   "execution_count": 83,
   "id": "f5580acb",
   "metadata": {},
   "outputs": [
    {
     "name": "stdout",
     "output_type": "stream",
     "text": [
      "-11.722166574516212 9.812977510684426e-32\n",
      "reject null hypothesis\n"
     ]
    }
   ],
   "source": [
    "z_stats, p_value = proportion.proportions_ztest(count=bed_bath_true, \n",
    "                                                nobs=n, \n",
    "                                                alternative='two-sided')\n",
    "print(z_stats, p_value)\n",
    "\n",
    "if p_value < alpha:\n",
    "    print('reject null hypothesis')\n",
    "else:\n",
    "    print('accept null hypothesis')"
   ]
  },
  {
   "cell_type": "markdown",
   "id": "686a456c",
   "metadata": {},
   "source": [
    "- Alternatively, using using the manual calculation procedure, we get a similar result. Note that the formula has two kinds of $\\hat{p}$. For the numerator, the $\\hat{p}$ signifies proportion for the group while for the denominator it signifies the *mean weighted population proportion*\n",
    "\n",
    "$$z= \\frac{(\\hat{p} \\geq 3 - \\hat{p} < 3 )- 0}{\\sqrt{\\frac{\\hat{p} \\times (1 - \\hat{p})}{n \\geq 3} + \\frac{\\hat{p} \\times (1 - \\hat{p})}{n < 3}}}$$"
   ]
  },
  {
   "cell_type": "code",
   "execution_count": 93,
   "id": "ce5fd9b5",
   "metadata": {},
   "outputs": [
    {
     "name": "stdout",
     "output_type": "stream",
     "text": [
      "-11.722166574516212\n"
     ]
    }
   ],
   "source": [
    "# proportions for the groups\n",
    "data = rental_aprt.groupby('bed_cat')['bath_cat'].value_counts(normalize=True)\n",
    "p_over2 = data[('at least 2', 'under 3')]\n",
    "p_under2 = data[('under 2', 'under 3')]\n",
    "\n",
    "# number of observations\n",
    "nums = rental_aprt.groupby('bed_cat')['bath_cat'].count()\n",
    "at_3 = nums[0]\n",
    "und_3 = nums[1]\n",
    "\n",
    "# mean weighted average for calculating standard error\n",
    "p_hat = ((at_3 * p_over2) + (und_3 * p_under2)) / (at_3 + und_3)\n",
    "se = np.sqrt(((p_hat * (1 - p_hat)) / at_3) + ((p_hat * (1 - p_hat)) / und_3))\n",
    "\n",
    "# z-score calculation\n",
    "z = (p_over2 - p_under2) / se\n",
    "print(z)"
   ]
  },
  {
   "cell_type": "markdown",
   "id": "99500e5d",
   "metadata": {},
   "source": [
    "## Result Conclusion\n",
    "\n",
    "$\\checkmark$ From the results we conclude that the differences in proportions of houses with under 3 bathrooms is significant when compared according to bedroom categories. \n",
    "\n",
    "$$.... \\text{ Next Section } ....$$"
   ]
  },
  {
   "cell_type": "code",
   "execution_count": 101,
   "id": "ec202135",
   "metadata": {},
   "outputs": [
    {
     "data": {
      "text/plain": [
       "11.640287797129416"
      ]
     },
     "execution_count": 101,
     "metadata": {},
     "output_type": "execute_result"
    }
   ],
   "source": [
    "np.sqrt(135.4963)"
   ]
  },
  {
   "cell_type": "code",
   "execution_count": 99,
   "id": "55a1340d",
   "metadata": {},
   "outputs": [
    {
     "data": {
      "text/plain": [
       "137.35840000000002"
      ]
     },
     "execution_count": 99,
     "metadata": {},
     "output_type": "execute_result"
    }
   ],
   "source": [
    "11.72 * 11.72"
   ]
  },
  {
   "cell_type": "markdown",
   "id": "6579aafb",
   "metadata": {},
   "source": [
    "# **CHI-SQUARE TESTS OF INDEPENDENCE**\n",
    "\n",
    "Chi-square test of independences extends proportion test to more than two groups. Previously, we calculated the proportion tes and came up with a z-score of -11.72 and a p-value that pointed toward rejecting null hypothesis and concluding that the bedroom and bathroom category had an association. That is, should the proportions had been the same, then the variables would be considered statistically independent. \n",
    "\n",
    "- An alternative way of performing the proportion test is by using the `chi2_independence()` method from `pingouin`. We set the `correction` parameter to `True` because there is a group with no observation."
   ]
  },
  {
   "cell_type": "code",
   "execution_count": 103,
   "id": "d6bb29dd",
   "metadata": {},
   "outputs": [
    {
     "name": "stdout",
     "output_type": "stream",
     "text": [
      "expected count: \n",
      " bath_cat    at least 3     under 3\n",
      "bed_cat                           \n",
      "at least 2  643.415783  884.584217\n",
      "under 2      71.584217   98.415783\n",
      "------------------------------------------------------------\n",
      "observed count: \n",
      " bath_cat    at least 3  under 3\n",
      "bed_cat                        \n",
      "at least 2       714.5    813.5\n",
      "under 2            0.5    169.5\n",
      "------------------------------------------------------------\n",
      "stats: \n",
      "                  test  lambda        chi2  dof  pval  cramer  power\n",
      "0             pearson  1.0000    135.4963  1.0   0.0  0.2825    1.0\n",
      "1        cressie-read  0.6667    145.9326  1.0   0.0  0.2932    1.0\n",
      "2      log-likelihood  0.0000    192.7848  1.0   0.0  0.3370    1.0\n",
      "3       freeman-tukey -0.5000    292.2858  1.0   0.0  0.4149    1.0\n",
      "4  mod-log-likelihood -1.0000    617.0404  1.0   0.0  0.6028    1.0\n",
      "5              neyman -2.0000  10149.0262  1.0   0.0  2.4448    1.0\n",
      "------------------------------------------------------------\n"
     ]
    },
    {
     "name": "stderr",
     "output_type": "stream",
     "text": [
      "C:\\Users\\mideg\\anaconda3\\lib\\site-packages\\pingouin\\contingency.py:151: UserWarning: Low count on observed frequencies.\n",
      "  warnings.warn('Low count on {} frequencies.'.format(name))\n"
     ]
    }
   ],
   "source": [
    "expected, observed, stats = pingouin.chi2_independence(\n",
    "    data=rental_aprt, \n",
    "    x='bed_cat', \n",
    "    y='bath_cat', \n",
    "    correction=True)\n",
    "\n",
    "print('expected count: \\n', expected)\n",
    "print('-'*60)\n",
    "print('observed count: \\n', observed)\n",
    "print('-'*60)\n",
    "print('stats: \\n', round(stats, 4))\n",
    "print('-'*60)"
   ]
  },
  {
   "cell_type": "markdown",
   "id": "7938fb38",
   "metadata": {},
   "source": [
    "- A closer look at the pearson statistics reveals that $\\chi^2$ is almost equal to z-score. This is usually the case if we had on error."
   ]
  },
  {
   "cell_type": "code",
   "execution_count": 111,
   "id": "fad769b0",
   "metadata": {},
   "outputs": [
    {
     "data": {
      "text/plain": [
       "test         pearson\n",
       "lambda           1.0\n",
       "chi2      135.496347\n",
       "dof              1.0\n",
       "pval             0.0\n",
       "cramer      0.282485\n",
       "power            1.0\n",
       "Name: 0, dtype: object"
      ]
     },
     "execution_count": 111,
     "metadata": {},
     "output_type": "execute_result"
    }
   ],
   "source": [
    "stats.iloc[0]"
   ]
  },
  {
   "cell_type": "markdown",
   "id": "12dcc195",
   "metadata": {},
   "source": [
    "# **TWO-SAMPLE T-TEST**\n",
    "\n",
    "In the previous section, the data was analyzed collectively. Here, the data will be analyzed based on regions. Dagoretti North and Westlands have entries above 600 while the rest have entries below 100. Therefore, the first analysis will focus on these two regions while the second analysis on the remaining regions. \n",
    "\n",
    "- Below is a plot showing the frequency of houses in these regions"
   ]
  },
  {
   "cell_type": "code",
   "execution_count": 31,
   "id": "3c57f702",
   "metadata": {
    "ExecuteTime": {
     "end_time": "2022-07-07T10:12:57.837426Z",
     "start_time": "2022-07-07T10:12:57.413555Z"
    },
    "scrolled": true
   },
   "outputs": [
    {
     "data": {
      "image/png": "[encoded data removed]",
      "text/plain": [
       "<Figure size 432x288 with 1 Axes>"
      ]
     },
     "metadata": {},
     "output_type": "display_data"
    }
   ],
   "source": [
    "rental_aprt.region\\\n",
    "        .value_counts(ascending=True)\\\n",
    "        .plot(kind='barh', \n",
    "              title='Number of house data collected based on regions',\n",
    "              xlabel='Region')\n",
    "plt.show()"
   ]
  },
  {
   "cell_type": "markdown",
   "id": "f9655994",
   "metadata": {},
   "source": [
    "## Question and Hypotheses\n",
    "\n",
    "Therefore, the question is:\n",
    "\n",
    "- \"*Are rental prices in Dagoretti North equal to rental prices in Westlands?*\"\n",
    "\n",
    "The null hypothesis is that the overall rental prices is equal in both location, while the alternative hypotheis is that rental price in Dagoretti North is not equal to those in Westlands.\n",
    "\n",
    "$$H_0: \\mu_{\\text{Dagoretti North}} - \\mu_{\\text{Westlands}} = 0$$\n",
    "\n",
    "$$H_A: \\mu_{\\text{Dagoretti North}} - \\mu_{\\text{Westlands}} \\neq 0$$"
   ]
  },
  {
   "cell_type": "markdown",
   "id": "9ebeee63",
   "metadata": {},
   "source": [
    "## Our Data\n",
    "\n",
    "- Before going further, we'll have to subset the data to get data for Dagoretti North and Westlands. "
   ]
  },
  {
   "cell_type": "code",
   "execution_count": 32,
   "id": "b80ebe38",
   "metadata": {
    "ExecuteTime": {
     "end_time": "2022-07-07T10:12:57.869406Z",
     "start_time": "2022-07-07T10:12:57.841422Z"
    }
   },
   "outputs": [
    {
     "name": "stdout",
     "output_type": "stream",
     "text": [
      "            region  rental_price  sq_mtrs  Bedrooms  Bathrooms     bed_cat  \\\n",
      "0        Westlands        155000      4.0       4.0        4.0      over 2   \n",
      "1  Dagoretti North        100000    300.0       3.0        4.0      over 2   \n",
      "2  Dagoretti North         75000      3.0       3.0        5.0      over 2   \n",
      "3  Dagoretti North        135000    227.0       3.0        4.0      over 2   \n",
      "5        Westlands        150000      2.0       2.0        2.0  at least 2   \n",
      "\n",
      "     bath_cat  \n",
      "0      over 3  \n",
      "1      over 3  \n",
      "2      over 3  \n",
      "3      over 3  \n",
      "5  at least 3  \n"
     ]
    }
   ],
   "source": [
    "west_dago = rental_aprt[(rental_aprt.region=='Westlands')\\\n",
    "                        | (rental_aprt.region == 'Dagoretti North')]\n",
    "\n",
    "westland = west_dago[west_dago.region == 'Westlands'].rental_price\n",
    "dagoretti = west_dago[west_dago.region == 'Dagoretti North'].rental_price\n",
    "\n",
    "print(west_dago.head())"
   ]
  },
  {
   "cell_type": "markdown",
   "id": "9c0b3cb9",
   "metadata": {},
   "source": [
    "## Distribution of Variables\n",
    "\n",
    "- A check for normality reveals that rental prices in Westlands follows a normal distribution while in Dagoretti North the distribution is a slightly skewed to the right. "
   ]
  },
  {
   "cell_type": "code",
   "execution_count": 33,
   "id": "76b7bef5",
   "metadata": {
    "ExecuteTime": {
     "end_time": "2022-07-07T10:12:59.736025Z",
     "start_time": "2022-07-07T10:12:57.873404Z"
    }
   },
   "outputs": [
    {
     "data": {
      "image/png": "[encoded data removed]",
      "text/plain": [
       "<Figure size 576x360 with 2 Axes>"
      ]
     },
     "metadata": {},
     "output_type": "display_data"
    }
   ],
   "source": [
    "fig, (ax1, ax2) = plt.subplots(1, 2, figsize=(8, 5))\n",
    "with sns.axes_style('ticks'):\n",
    "    sns.histplot(dagoretti, kde=True, ax=ax1)\n",
    "    sns.histplot(westland, kde=True, ax=ax2)\n",
    "ax1.set_title('Dagoretti')\n",
    "ax2.set_title('Westlands');"
   ]
  },
  {
   "cell_type": "markdown",
   "id": "0ad8727d",
   "metadata": {},
   "source": [
    "## Levene's Test\n",
    "\n",
    "For now a t-test will be conducted for both variables. Any adjustment will be made later on. As before, the significance level is set at 0.1 The Levene's test tests the null hypothesis that all input samples are from population with equal variance. Here the p-value is less than 0.05 thus we reject the null hypothesis and conclude that the samples comes from population with significant difference in population variance. \n",
    "\n",
    "- Being that the p-value of Levene's Test is quite sensitive to sample size, the test is only used for guidance."
   ]
  },
  {
   "cell_type": "code",
   "execution_count": 34,
   "id": "f6bc5184",
   "metadata": {
    "ExecuteTime": {
     "end_time": "2022-07-07T10:12:59.767009Z",
     "start_time": "2022-07-07T10:12:59.740025Z"
    }
   },
   "outputs": [
    {
     "data": {
      "text/plain": [
       "LeveneResult(statistic=16.011414974093732, pvalue=6.60369888945088e-05)"
      ]
     },
     "execution_count": 34,
     "metadata": {},
     "output_type": "execute_result"
    }
   ],
   "source": [
    "levene(dagoretti, westland, \n",
    "       center='mean', \n",
    "       proportiontocut=0.05)"
   ]
  },
  {
   "cell_type": "markdown",
   "id": "47608959",
   "metadata": {},
   "source": [
    "## Summary Statistics\n",
    "\n",
    "The summary statistics shows that the average rental prices in Dagoretti North is about 100K while in Westlands it is about 116K. The question is whether this difference is statistically significant or is it as a result of sampling variability."
   ]
  },
  {
   "cell_type": "code",
   "execution_count": 35,
   "id": "2ed71e58",
   "metadata": {
    "ExecuteTime": {
     "end_time": "2022-07-07T10:12:59.797988Z",
     "start_time": "2022-07-07T10:12:59.772006Z"
    }
   },
   "outputs": [
    {
     "data": {
      "text/plain": [
       "region\n",
       "Dagoretti North    100124.705882\n",
       "Westlands          116943.835385\n",
       "Name: rental_price, dtype: float64"
      ]
     },
     "execution_count": 35,
     "metadata": {},
     "output_type": "execute_result"
    }
   ],
   "source": [
    "west_dago.groupby('region')['rental_price'].mean().dropna()"
   ]
  },
  {
   "cell_type": "markdown",
   "id": "b310e605",
   "metadata": {},
   "source": [
    "## Calculating Test Statistics and p-Value\n",
    "\n",
    "Assuming that null hypothesis is true, $t$ is given by the equation: \n",
    "\n",
    "$$t = \\frac{(\\bar{x}_{\\text{Dago}} - \\bar{x}_{\\text{Westy}})}{\\sqrt{\\frac{s^2_{\\text{Dago}}}{n_{\\text{Dago}}} + \\frac{s^2_{\\text{Westy}}}{n_{\\text{Westy}}}}}$$\n",
    "\n",
    "Being that this is a two sided t-test, we'll use the `pingouin` package to calculate the t statistics and other results. Note that this is an independent test thus the `paired` argument is set to `False` which is the default. Note that the sample sizes are unequal and we've set `correction=True`. This way, the `Welch–Satterthwaite` equation is used to approximate the adjusted degrees of freedom.\n",
    "\n",
    "$$v = \\frac{\\left(\\frac{s^2_x}{n_x} + \\frac{s^2_y}{n_y}\\right)^2}{\\frac{\\left(\\frac{s^2_x}{n_x}\\right)^2}{\\left(n_x - 1\\right)} + \\frac{\\left(\\frac{s^2_y}{n_y}\\right)^2}{\\left(n_y - 1\\right)}}$$"
   ]
  },
  {
   "cell_type": "markdown",
   "id": "5a9c54c9",
   "metadata": {},
   "source": [
    "- With a p-value less than 0.01, we reject the null hypothesis and conclude that there is a significant difference in rental prices in Dagoretti North and Westlands."
   ]
  },
  {
   "cell_type": "code",
   "execution_count": 36,
   "id": "28beb13e",
   "metadata": {
    "ExecuteTime": {
     "end_time": "2022-07-07T10:12:59.845959Z",
     "start_time": "2022-07-07T10:12:59.802987Z"
    }
   },
   "outputs": [
    {
     "name": "stdout",
     "output_type": "stream",
     "text": [
      "               T          dof alternative         p-val  \\\n",
      "T-test -9.385469  1297.012572   two-sided  2.707531e-20   \n",
      "\n",
      "                                           CI80%   cohen-d       BF10  power  \n",
      "T-test  [-19116.89069225623, -14521.36831226868]  0.497431  1.581e+17    1.0  \n"
     ]
    }
   ],
   "source": [
    "t_test_results = pingouin.ttest(x=dagoretti, \n",
    "                                y=westland, \n",
    "                                alternative='two-sided',\n",
    "                                paired=False,\n",
    "                                confidence=0.80, \n",
    "                                correction=True)\n",
    "print(t_test_results)"
   ]
  },
  {
   "cell_type": "markdown",
   "id": "6b7595d3",
   "metadata": {},
   "source": [
    "- Alternatively, we can use `ttest_ind()` from `scipy.stats` to get similar results."
   ]
  },
  {
   "cell_type": "code",
   "execution_count": 37,
   "id": "c191b4d1",
   "metadata": {
    "ExecuteTime": {
     "end_time": "2022-07-07T10:12:59.877940Z",
     "start_time": "2022-07-07T10:12:59.854955Z"
    }
   },
   "outputs": [
    {
     "data": {
      "text/plain": [
       "Ttest_indResult(statistic=-9.385468652722123, pvalue=2.7075312062428993e-20)"
      ]
     },
     "execution_count": 37,
     "metadata": {},
     "output_type": "execute_result"
    }
   ],
   "source": [
    "ttest_ind(dagoretti, westland, equal_var=False)"
   ]
  },
  {
   "cell_type": "markdown",
   "id": "4606e507",
   "metadata": {},
   "source": [
    "# **ONE-WAY ANOVA**\n",
    "\n",
    "The dataset has Kiambaa, Langata, Nyali, and Kiambu Road regions below 100 data entries. Therefore, with only these entries, assuming the variance among them is equal, analysis is done separately. \n",
    "\n",
    "- First, let's get a visual representation of the number of house data collected based on regions to confirm this distribution."
   ]
  },
  {
   "cell_type": "code",
   "execution_count": 38,
   "id": "537ca559",
   "metadata": {
    "ExecuteTime": {
     "end_time": "2022-07-07T10:22:09.466950Z",
     "start_time": "2022-07-07T10:22:08.831192Z"
    },
    "scrolled": true
   },
   "outputs": [
    {
     "data": {
      "image/png": "[encoded data removed]",
      "text/plain": [
       "<Figure size 432x288 with 1 Axes>"
      ]
     },
     "metadata": {},
     "output_type": "display_data"
    }
   ],
   "source": [
    "rental_aprt.region\\\n",
    "        .value_counts(ascending=True)\\\n",
    "        .plot(kind='barh', \n",
    "              title='Number of house data collected based on regions',\n",
    "              xlabel='Region')\n",
    "plt.show()"
   ]
  },
  {
   "cell_type": "markdown",
   "id": "60e82fd4",
   "metadata": {},
   "source": [
    "## Our Data\n",
    "\n",
    "- Before going further, let's extract the data for the remaining four regions that was not analyzed earlier."
   ]
  },
  {
   "cell_type": "code",
   "execution_count": 39,
   "id": "9a75172e",
   "metadata": {
    "ExecuteTime": {
     "end_time": "2022-07-07T10:28:29.719253Z",
     "start_time": "2022-07-07T10:28:29.667288Z"
    }
   },
   "outputs": [
    {
     "name": "stdout",
     "output_type": "stream",
     "text": [
      "      region  rental_price  sq_mtrs  Bedrooms  Bathrooms     bed_cat  \\\n",
      "166    Nyali         40000   2500.0       3.0        3.0      over 2   \n",
      "186  Kiambaa         40000   2024.0       3.0        2.0      over 2   \n",
      "235  Langata         45000      3.0       3.0        2.0      over 2   \n",
      "381    Nyali         60000   2500.0       3.0        2.0      over 2   \n",
      "204  Kiambaa         45000  20235.0       2.0        2.0  at least 2   \n",
      "\n",
      "       bath_cat  \n",
      "166  at least 3  \n",
      "186  at least 3  \n",
      "235  at least 3  \n",
      "381  at least 3  \n",
      "204  at least 3  \n"
     ]
    }
   ],
   "source": [
    "other_regions = rental_aprt[~(rental_aprt.region=='Westlands') &\\\n",
    "                            ~(rental_aprt.region == 'Dagoretti North')]\n",
    "\n",
    "print(other_regions.sample(5, random_state=35))"
   ]
  },
  {
   "cell_type": "markdown",
   "id": "901d7567",
   "metadata": {},
   "source": [
    "## Question and Hypothesis\n",
    "\n",
    "The question for analysis of variance will be: \n",
    "\n",
    "$$\\text{Question: Is the average rental price for these four regions different from each other?}$$\n",
    "\n",
    "$$H_0: μ_1 = μ_2 = μ_3 = … = μ_k \\text{(the means of all the population are equal)}$$\n",
    "\n",
    "$$H_A: \\text{There will be at least one population mean that differs from the rest}$$"
   ]
  },
  {
   "cell_type": "markdown",
   "id": "bbf71ce6",
   "metadata": {},
   "source": [
    "## Visualizing the Rental Price Distribution\n",
    "\n",
    "First things first, we'll have a visual representation of the distribution of rental prices in these regions using a boxplot. \n",
    "\n",
    "- According to the boxplots, the distribution of rental prices in Nyali and Langata are higher than the distribution of rental prices in Kiambaa and Kiambu Road. However, the question is, *How significant are these differences?*"
   ]
  },
  {
   "cell_type": "code",
   "execution_count": 40,
   "id": "536a39a7",
   "metadata": {
    "ExecuteTime": {
     "end_time": "2022-07-07T10:32:31.768927Z",
     "start_time": "2022-07-07T10:32:31.370663Z"
    }
   },
   "outputs": [
    {
     "data": {
      "image/png": "[encoded data removed]",
      "text/plain": [
       "<Figure size 432x288 with 1 Axes>"
      ]
     },
     "metadata": {},
     "output_type": "display_data"
    }
   ],
   "source": [
    "sns.boxplot(data=other_regions.dropna(), \n",
    "            x='rental_price',\n",
    "            y='region')\n",
    "plt.show()"
   ]
  },
  {
   "cell_type": "markdown",
   "id": "0d27b4fa",
   "metadata": {},
   "source": [
    "## General Difference\n",
    "\n",
    "- Here, the significance level is set at 0.1."
   ]
  },
  {
   "cell_type": "code",
   "execution_count": 41,
   "id": "3d036d15",
   "metadata": {
    "ExecuteTime": {
     "end_time": "2022-07-07T10:38:50.740788Z",
     "start_time": "2022-07-07T10:38:50.725794Z"
    }
   },
   "outputs": [],
   "source": [
    "alpha = 0.1"
   ]
  },
  {
   "cell_type": "markdown",
   "id": "84971ded",
   "metadata": {},
   "source": [
    "- Then we use `pinguoin.anova()` to compare the values across multiple groups. "
   ]
  },
  {
   "cell_type": "code",
   "execution_count": 42,
   "id": "da02d54d",
   "metadata": {
    "ExecuteTime": {
     "end_time": "2022-07-07T10:42:12.964757Z",
     "start_time": "2022-07-07T10:42:12.926779Z"
    }
   },
   "outputs": [
    {
     "name": "stdout",
     "output_type": "stream",
     "text": [
      "   Source  ddof1  ddof2         F         p-unc       np2\n",
      "0  region      3    194  13.33395  5.981584e-08  0.170947\n",
      "\n",
      "reject null hypothesis\n"
     ]
    }
   ],
   "source": [
    "anova_results = pingouin.anova(data=other_regions, \n",
    "               dv='rental_price', \n",
    "               between='region')\n",
    "print(anova_results)\n",
    "print()\n",
    "\n",
    "if anova_results['p-unc'][0] < alpha:\n",
    "    print('reject null hypothesis')\n",
    "else:\n",
    "    print('accept null hypothesis')"
   ]
  },
  {
   "cell_type": "markdown",
   "id": "e1b1e4f6",
   "metadata": {},
   "source": [
    "$\\checkmark$ The p-value $5.98\\times 10^{-8}$ is less than the significance value of 0.1 thus null hypothesis of these regions having similar rental prices is rejected. Conclusion can thus be made that at least two of these regions have significant difference between their rental prices. However, this doesn't tell us these two categories."
   ]
  },
  {
   "cell_type": "markdown",
   "id": "d1ace8a8",
   "metadata": {},
   "source": [
    "## Pairwise Difference Test\n",
    "\n",
    "To identify regions which are different we compare all the four regions, testing each pair in turn. In other words, performing a total of eight tests. \n",
    "\n",
    "- To do this in one go, the appropriate method will be using `pingouin`s `.pairwise_ttest()`, setting the argument `p-adjust` to `'bonf'`. This is because if we run one test, the chances of false positive is 10%. With more groups, it's almost guaranteed that there will at least one false positive. \n",
    "\n",
    "    - The Bonferroni correction is an adjustment that increase the p-values thus reducing the chances of false positive. "
   ]
  },
  {
   "cell_type": "code",
   "execution_count": 43,
   "id": "46aa0bc6",
   "metadata": {
    "ExecuteTime": {
     "end_time": "2022-07-07T10:49:38.538069Z",
     "start_time": "2022-07-07T10:49:38.418959Z"
    }
   },
   "outputs": [
    {
     "name": "stdout",
     "output_type": "stream",
     "text": [
      "  Contrast            A            B  Paired  Parametric         T        dof  \\\n",
      "0   region        Nyali      Kiambaa   False        True  4.525915  54.350010   \n",
      "1   region        Nyali  Kiambu Road   False        True  0.433870  71.369921   \n",
      "2   region        Nyali      Langata   False        True -0.922508  86.868464   \n",
      "3   region      Kiambaa  Kiambu Road   False        True -5.901220  62.998660   \n",
      "4   region      Kiambaa      Langata   False        True -4.949846  54.228669   \n",
      "5   region  Kiambu Road      Langata   False        True -1.435590  68.326814   \n",
      "\n",
      "  alternative         p-unc        p-corr p-adjust       BF10    hedges  \n",
      "0   two-sided  3.315742e-05  1.989445e-04     bonf   1172.002  1.005280  \n",
      "1   two-sided  6.656917e-01  1.000000e+00     bonf      0.249  0.091828  \n",
      "2   two-sided  3.588188e-01  1.000000e+00     bonf       0.32 -0.190466  \n",
      "3   two-sided  1.561818e-07  9.370907e-07     bonf  2.436e+05 -1.269260  \n",
      "4   two-sided  7.594881e-06  4.556929e-05     bonf   5813.558 -1.076588  \n",
      "5   two-sided  1.556813e-01  9.340880e-01     bonf      0.555 -0.290380  \n"
     ]
    }
   ],
   "source": [
    "pairwise_anova = pingouin.pairwise_ttests(data=other_regions, \n",
    "                                          dv='rental_price',\n",
    "                                          between='region', \n",
    "                                          padjust='bonf')\n",
    "print(pairwise_anova)"
   ]
  },
  {
   "cell_type": "markdown",
   "id": "66615ff9",
   "metadata": {},
   "source": [
    "Looking at the uncorrected p-values (`p-unc`) and corrected p-values (`p-corr`) the number of pairs with significant difference remains the same. These significant difference are between: `Kiambaa and Nyali`, `Kiambaa and Kiambu Road`, and `Kiambaa and Langata`."
   ]
  },
  {
   "cell_type": "markdown",
   "id": "fae4e787",
   "metadata": {},
   "source": [
    "## Confirming Results\n",
    "\n",
    "- The results shouldn't be surprising because from the average price in Kiambaa is about 36K while the average rental prices in other regions were between 60K to 72K"
   ]
  },
  {
   "cell_type": "code",
   "execution_count": 44,
   "id": "e2983a94",
   "metadata": {
    "ExecuteTime": {
     "end_time": "2022-07-07T10:59:40.025045Z",
     "start_time": "2022-07-07T10:59:40.002058Z"
    }
   },
   "outputs": [
    {
     "data": {
      "text/plain": [
       "region\n",
       "Kiambaa        36904.411765\n",
       "Kiambu Road    60500.000000\n",
       "Langata        71276.595745\n",
       "Nyali          63318.181818\n",
       "Name: rental_price, dtype: float64"
      ]
     },
     "execution_count": 44,
     "metadata": {},
     "output_type": "execute_result"
    }
   ],
   "source": [
    "other_regions.groupby('region')\\\n",
    "        ['rental_price']\\\n",
    "        .mean()\\\n",
    "        .dropna()\n"
   ]
  },
  {
   "cell_type": "code",
   "execution_count": null,
   "id": "e237fbb8",
   "metadata": {},
   "outputs": [],
   "source": []
  },
  {
   "cell_type": "markdown",
   "id": "39f0d98e",
   "metadata": {},
   "source": [
    "# **Other Computations**"
   ]
  },
  {
   "cell_type": "markdown",
   "id": "66cd0755",
   "metadata": {},
   "source": [
    "What's the correlation between rental price and the house square metric"
   ]
  },
  {
   "cell_type": "code",
   "execution_count": 45,
   "id": "41a02bed",
   "metadata": {
    "ExecuteTime": {
     "end_time": "2022-07-07T10:13:01.202997Z",
     "start_time": "2022-07-07T10:13:01.202997Z"
    }
   },
   "outputs": [
    {
     "data": {
      "image/png": "[encoded data removed]",
      "text/plain": [
       "<Figure size 432x288 with 2 Axes>"
      ]
     },
     "metadata": {},
     "output_type": "display_data"
    }
   ],
   "source": [
    "correlations = rental_aprt.corr()\n",
    "sns.heatmap(correlations, annot=True)\n",
    "plt.show()"
   ]
  },
  {
   "cell_type": "code",
   "execution_count": 46,
   "id": "d6c5905a",
   "metadata": {
    "ExecuteTime": {
     "end_time": "2022-07-07T10:13:01.210518Z",
     "start_time": "2022-07-07T10:13:01.210518Z"
    }
   },
   "outputs": [
    {
     "ename": "NameError",
     "evalue": "name 'a' is not defined",
     "output_type": "error",
     "traceback": [
      "\u001b[1;31m---------------------------------------------------------------------------\u001b[0m",
      "\u001b[1;31mNameError\u001b[0m                                 Traceback (most recent call last)",
      "Input \u001b[1;32mIn [46]\u001b[0m, in \u001b[0;36m<cell line: 1>\u001b[1;34m()\u001b[0m\n\u001b[1;32m----> 1\u001b[0m sns\u001b[38;5;241m.\u001b[39mregplot(data\u001b[38;5;241m=\u001b[39m\u001b[43ma\u001b[49m, x\u001b[38;5;241m=\u001b[39m\u001b[38;5;124m'\u001b[39m\u001b[38;5;124msq_mtrs\u001b[39m\u001b[38;5;124m'\u001b[39m, y\u001b[38;5;241m=\u001b[39m\u001b[38;5;124m'\u001b[39m\u001b[38;5;124mrental_price\u001b[39m\u001b[38;5;124m'\u001b[39m, ci\u001b[38;5;241m=\u001b[39m\u001b[38;5;28;01mNone\u001b[39;00m)\n",
      "\u001b[1;31mNameError\u001b[0m: name 'a' is not defined"
     ]
    }
   ],
   "source": [
    "\n",
    "sns.regplot(data=a, x='sq_mtrs', y='rental_price', ci=None)"
   ]
  },
  {
   "cell_type": "code",
   "execution_count": null,
   "id": "9f767ad9",
   "metadata": {
    "ExecuteTime": {
     "end_time": "2022-07-07T10:13:01.220508Z",
     "start_time": "2022-07-07T10:13:01.220508Z"
    }
   },
   "outputs": [],
   "source": [
    "centering = lambda x: x - x.mean()\n",
    "a = rental_aprt.drop('region', axis=1).apply(centering)"
   ]
  },
  {
   "cell_type": "code",
   "execution_count": null,
   "id": "72b89ead",
   "metadata": {
    "ExecuteTime": {
     "end_time": "2022-07-07T10:13:01.225504Z",
     "start_time": "2022-07-07T10:13:01.225504Z"
    }
   },
   "outputs": [],
   "source": [
    "a"
   ]
  },
  {
   "cell_type": "markdown",
   "id": "f3d2af8f",
   "metadata": {},
   "source": [
    "## Question\n",
    "\n",
    "The first question is "
   ]
  },
  {
   "cell_type": "code",
   "execution_count": null,
   "id": "a4999f89",
   "metadata": {},
   "outputs": [],
   "source": []
  },
  {
   "cell_type": "code",
   "execution_count": null,
   "id": "c780ff2c",
   "metadata": {
    "ExecuteTime": {
     "end_time": "2022-07-07T10:13:01.232502Z",
     "start_time": "2022-07-07T10:13:01.232502Z"
    }
   },
   "outputs": [],
   "source": [
    "rental_aprt.groupby('region')['rental_price']\\\n",
    "        .mean()\\\n",
    "        .sort_values().plot(kind='barh',\n",
    "                            title='Average House Rent Price per Region')\n",
    "plt.xlabel('Average price (KSh)')\n",
    "plt.show()"
   ]
  },
  {
   "cell_type": "code",
   "execution_count": null,
   "id": "a6c4a2c5",
   "metadata": {},
   "outputs": [],
   "source": []
  },
  {
   "cell_type": "code",
   "execution_count": null,
   "id": "cd928b99",
   "metadata": {
    "ExecuteTime": {
     "end_time": "2022-07-07T10:13:01.236498Z",
     "start_time": "2022-07-07T10:13:01.236498Z"
    }
   },
   "outputs": [],
   "source": [
    "hist_dist('Westlands', 'rental_price', 'hist')"
   ]
  }
 ],
 "metadata": {
  "kernelspec": {
   "display_name": "Python 3 (ipykernel)",
   "language": "python",
   "name": "python3"
  },
  "language_info": {
   "codemirror_mode": {
    "name": "ipython",
    "version": 3
   },
   "file_extension": ".py",
   "mimetype": "text/x-python",
   "name": "python",
   "nbconvert_exporter": "python",
   "pygments_lexer": "ipython3",
   "version": "3.8.13"
  },
  "toc": {
   "base_numbering": 1,
   "nav_menu": {},
   "number_sections": true,
   "sideBar": true,
   "skip_h1_title": false,
   "title_cell": "Table of Contents",
   "title_sidebar": "Contents",
   "toc_cell": false,
   "toc_position": {
    "height": "calc(100% - 180px)",
    "left": "10px",
    "top": "150px",
    "width": "165px"
   },
   "toc_section_display": true,
   "toc_window_display": true
  },
  "varInspector": {
   "cols": {
    "lenName": 16,
    "lenType": 16,
    "lenVar": 40
   },
   "kernels_config": {
    "python": {
     "delete_cmd_postfix": "",
     "delete_cmd_prefix": "del ",
     "library": "var_list.py",
     "varRefreshCmd": "print(var_dic_list())"
    },
    "r": {
     "delete_cmd_postfix": ") ",
     "delete_cmd_prefix": "rm(",
     "library": "var_list.r",
     "varRefreshCmd": "cat(var_dic_list()) "
    }
   },
   "types_to_exclude": [
    "module",
    "function",
    "builtin_function_or_method",
    "instance",
    "_Feature"
   ],
   "window_display": false
  }
 },
 "nbformat": 4,
 "nbformat_minor": 5
}
