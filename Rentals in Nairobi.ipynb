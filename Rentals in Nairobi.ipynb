{
 "cells": [
  {
   "cell_type": "markdown",
   "id": "83cfbd05",
   "metadata": {},
   "source": [
    "# **Kenya Housing Value Details**\n",
    "\n",
    "Among the worst hit sectors due to Covid-19 was the real estate. According to the data provided by the [Kenya Property Center](https://kenyapropertycentre.com/market-trends/average-prices), Nairobi tops the list of county with an average high of KSh 70,000 per month in rental houses followed by Mombasa and Kilifi with an average of KSh 40,000 per month. Based on towns, Lavington, Karen, an Westlands top the list with an average monthly rental charges of KSh 210K, KSh 150K, and 130K respectively. The dataset of interest is obtained [here](https://www.kaggle.com/datasets/iamasteriix/rental-apartments-in-kenya)."
   ]
  },
  {
   "cell_type": "code",
   "execution_count": 1,
   "id": "29d63f1d",
   "metadata": {
    "scrolled": true
   },
   "outputs": [
    {
     "data": {
      "text/html": [
       "<div>\n",
       "<style scoped>\n",
       "    .dataframe tbody tr th:only-of-type {\n",
       "        vertical-align: middle;\n",
       "    }\n",
       "\n",
       "    .dataframe tbody tr th {\n",
       "        vertical-align: top;\n",
       "    }\n",
       "\n",
       "    .dataframe thead th {\n",
       "        text-align: right;\n",
       "    }\n",
       "</style>\n",
       "<table border=\"1\" class=\"dataframe\">\n",
       "  <thead>\n",
       "    <tr style=\"text-align: right;\">\n",
       "      <th></th>\n",
       "      <th>Agency</th>\n",
       "      <th>Neighborhood</th>\n",
       "      <th>Price</th>\n",
       "      <th>link</th>\n",
       "      <th>sq_mtrs</th>\n",
       "      <th>Bedrooms</th>\n",
       "      <th>Bathrooms</th>\n",
       "    </tr>\n",
       "  </thead>\n",
       "  <tbody>\n",
       "    <tr>\n",
       "      <th>0</th>\n",
       "      <td>Buy Rent Shelters</td>\n",
       "      <td>General Mathenge, Westlands</td>\n",
       "      <td>KSh 155,000</td>\n",
       "      <td>/listings/4-bedroom-apartment-for-rent-general...</td>\n",
       "      <td>4.0</td>\n",
       "      <td>4.0</td>\n",
       "      <td>4.0</td>\n",
       "    </tr>\n",
       "    <tr>\n",
       "      <th>1</th>\n",
       "      <td>Kenya Classic Homes</td>\n",
       "      <td>Kilimani, Dagoretti North</td>\n",
       "      <td>KSh 100,000</td>\n",
       "      <td>/listings/3-bedroom-apartment-for-rent-kiliman...</td>\n",
       "      <td>300.0</td>\n",
       "      <td>3.0</td>\n",
       "      <td>4.0</td>\n",
       "    </tr>\n",
       "    <tr>\n",
       "      <th>2</th>\n",
       "      <td>Absolute Estate Agents</td>\n",
       "      <td>Hatheru Rd,, Lavington, Dagoretti North</td>\n",
       "      <td>KSh 75,000</td>\n",
       "      <td>/listings/3-bedroom-apartment-for-rent-lavingt...</td>\n",
       "      <td>3.0</td>\n",
       "      <td>3.0</td>\n",
       "      <td>5.0</td>\n",
       "    </tr>\n",
       "    <tr>\n",
       "      <th>3</th>\n",
       "      <td>A1 Properties Limited</td>\n",
       "      <td>Kilimani, Dagoretti North</td>\n",
       "      <td>KSh 135,000</td>\n",
       "      <td>/listings/3-bedroom-apartment-for-rent-kiliman...</td>\n",
       "      <td>227.0</td>\n",
       "      <td>3.0</td>\n",
       "      <td>4.0</td>\n",
       "    </tr>\n",
       "    <tr>\n",
       "      <th>4</th>\n",
       "      <td>Pmc Estates Limited</td>\n",
       "      <td>Imara Daima, Embakasi</td>\n",
       "      <td>KSh 50,000</td>\n",
       "      <td>/listings/3-bedroom-apartment-for-rent-imara-d...</td>\n",
       "      <td>3.0</td>\n",
       "      <td>3.0</td>\n",
       "      <td>NaN</td>\n",
       "    </tr>\n",
       "  </tbody>\n",
       "</table>\n",
       "</div>"
      ],
      "text/plain": [
       "                   Agency                             Neighborhood  \\\n",
       "0       Buy Rent Shelters              General Mathenge, Westlands   \n",
       "1     Kenya Classic Homes                Kilimani, Dagoretti North   \n",
       "2  Absolute Estate Agents  Hatheru Rd,, Lavington, Dagoretti North   \n",
       "3   A1 Properties Limited                Kilimani, Dagoretti North   \n",
       "4     Pmc Estates Limited                    Imara Daima, Embakasi   \n",
       "\n",
       "         Price                                               link  sq_mtrs  \\\n",
       "0  KSh 155,000  /listings/4-bedroom-apartment-for-rent-general...      4.0   \n",
       "1  KSh 100,000  /listings/3-bedroom-apartment-for-rent-kiliman...    300.0   \n",
       "2   KSh 75,000  /listings/3-bedroom-apartment-for-rent-lavingt...      3.0   \n",
       "3  KSh 135,000  /listings/3-bedroom-apartment-for-rent-kiliman...    227.0   \n",
       "4   KSh 50,000  /listings/3-bedroom-apartment-for-rent-imara-d...      3.0   \n",
       "\n",
       "   Bedrooms  Bathrooms  \n",
       "0       4.0        4.0  \n",
       "1       3.0        4.0  \n",
       "2       3.0        5.0  \n",
       "3       3.0        4.0  \n",
       "4       3.0        NaN  "
      ]
     },
     "execution_count": 1,
     "metadata": {},
     "output_type": "execute_result"
    }
   ],
   "source": [
    "import pandas as pd\n",
    "import numpy as np\n",
    "import seaborn as sns\n",
    "import matplotlib.pyplot as plt\n",
    "%matplotlib inline\n",
    "sns.set_style('whitegrid')\n",
    "from scipy.stats import norm, t, levene\n",
    "import pingouin\n",
    "\n",
    "apt_rents = pd.read_csv('rent_apts.csv')\n",
    "apt_rents.head()"
   ]
  },
  {
   "cell_type": "markdown",
   "id": "b4cbcb43",
   "metadata": {},
   "source": [
    "# **Data Cleaning & Selection** \n",
    "\n",
    "From the data, the variables of interest are Neighborhood, Price, House size (sq_mtrs), number of bedrooms and bathrooms. However, before analysis, some cleaning is in order. As a starting point, only two variables will be considered$-$`Neighborhood` and `Price`. The remaining adjustments will be considered as analysis goes by."
   ]
  },
  {
   "cell_type": "code",
   "execution_count": 2,
   "id": "85796551",
   "metadata": {
    "scrolled": false
   },
   "outputs": [
    {
     "name": "stdout",
     "output_type": "stream",
     "text": [
      "<class 'pandas.core.frame.DataFrame'>\n",
      "RangeIndex: 1848 entries, 0 to 1847\n",
      "Data columns (total 7 columns):\n",
      " #   Column        Non-Null Count  Dtype  \n",
      "---  ------        --------------  -----  \n",
      " 0   Agency        1848 non-null   object \n",
      " 1   Neighborhood  1848 non-null   object \n",
      " 2   Price         1848 non-null   object \n",
      " 3   link          1848 non-null   object \n",
      " 4   sq_mtrs       1846 non-null   float64\n",
      " 5   Bedrooms      1845 non-null   float64\n",
      " 6   Bathrooms     1557 non-null   float64\n",
      "dtypes: float64(3), object(4)\n",
      "memory usage: 101.2+ KB\n"
     ]
    }
   ],
   "source": [
    "apt_rents.info()"
   ]
  },
  {
   "cell_type": "markdown",
   "id": "c5e1fe33",
   "metadata": {},
   "source": [
    "## Neighborhood\n",
    "\n",
    "The `Neighborhood` variable contains the location of these houses. A look at these values shows that there are over 600 unique places. However, the interest is on specific locations."
   ]
  },
  {
   "cell_type": "code",
   "execution_count": 3,
   "id": "5cc698ff",
   "metadata": {
    "scrolled": true
   },
   "outputs": [
    {
     "data": {
      "text/plain": [
       "647"
      ]
     },
     "execution_count": 3,
     "metadata": {},
     "output_type": "execute_result"
    }
   ],
   "source": [
    "len(apt_rents.Neighborhood.unique())"
   ]
  },
  {
   "cell_type": "markdown",
   "id": "fab52b34",
   "metadata": {},
   "source": [
    "Here, we create a column `region` which we take the last name which most represent constituency with a few exceptions of places like 'Mombasa Rd' among others. Now out of 647 unique Neighborhoods there are only 37 unique neighborhoods stored in the column `region`. Note that whitespace is removed."
   ]
  },
  {
   "cell_type": "code",
   "execution_count": 4,
   "id": "d6ef1f69",
   "metadata": {},
   "outputs": [
    {
     "name": "stdout",
     "output_type": "stream",
     "text": [
      "number of regions: 37 \n",
      "\n",
      "0          Westlands\n",
      "1    Dagoretti North\n",
      "2    Dagoretti North\n",
      "3    Dagoretti North\n",
      "4           Embakasi\n",
      "Name: region, dtype: object\n"
     ]
    }
   ],
   "source": [
    "get_region = lambda x: x.rpartition(',')[-1]\n",
    "remove_space = lambda x: x.strip()\n",
    "\n",
    "apt_rents['region'] = apt_rents.Neighborhood\\\n",
    "                .apply(get_region)\\\n",
    "                .apply(remove_space)\n",
    "\n",
    "print('number of regions:', len(apt_rents.region.unique()), '\\n')\n",
    "print(apt_rents.region.head())"
   ]
  },
  {
   "cell_type": "markdown",
   "id": "c6262941",
   "metadata": {},
   "source": [
    "## Rental Prices\n",
    "\n",
    "The `Price` variables also need some adjustments to convert it from an `Object` data type to integer. To do this the comma and the `KSh` currency symbol are removed."
   ]
  },
  {
   "cell_type": "code",
   "execution_count": 5,
   "id": "84ad0844",
   "metadata": {},
   "outputs": [
    {
     "name": "stdout",
     "output_type": "stream",
     "text": [
      "0    155000\n",
      "1    100000\n",
      "2     75000\n",
      "3    135000\n",
      "4     50000\n",
      "Name: rental_price, dtype: int64\n"
     ]
    }
   ],
   "source": [
    "remove_character = lambda x: x.translate({ord(c): None for c in \",KSh\"})\n",
    "\n",
    "apt_rents['rental_price'] = apt_rents.Price.apply(remove_character)\n",
    "apt_rents['rental_price'] = apt_rents['rental_price'].astype('int64')\n",
    "\n",
    "print(apt_rents.rental_price.head())\n",
    "assert apt_rents.rental_price.dtype == 'int64'"
   ]
  },
  {
   "cell_type": "markdown",
   "id": "d88d27e1",
   "metadata": {},
   "source": [
    "## Data Selection\n",
    "\n",
    "The variables `Agency` and `link` won't be of use in this analysis but they provide some useful information to buyers. Onwards, the data for analysis is stored in `rental_aprt` DataFrame."
   ]
  },
  {
   "cell_type": "code",
   "execution_count": 6,
   "id": "fd5f4318",
   "metadata": {
    "scrolled": false
   },
   "outputs": [
    {
     "name": "stdout",
     "output_type": "stream",
     "text": [
      "            region  rental_price  sq_mtrs  Bedrooms  Bathrooms\n",
      "0        Westlands        155000      4.0       4.0        4.0\n",
      "1  Dagoretti North        100000    300.0       3.0        4.0\n",
      "2  Dagoretti North         75000      3.0       3.0        5.0\n",
      "3  Dagoretti North        135000    227.0       3.0        4.0\n",
      "4         Embakasi         50000      3.0       3.0        NaN\n"
     ]
    }
   ],
   "source": [
    "rental_aprt = apt_rents[['region', 'rental_price', 'sq_mtrs', 'Bedrooms', 'Bathrooms']]\n",
    "print(rental_aprt.head())"
   ]
  },
  {
   "cell_type": "markdown",
   "id": "1019e333",
   "metadata": {},
   "source": [
    "## Further Selection\n",
    "\n",
    "This analysis will be based on regions. Therefore, to use parametric analysis, each `region` should have about 30 entries across the variables. Going by this assumptions, only 6 regions meet the requirement."
   ]
  },
  {
   "cell_type": "code",
   "execution_count": 7,
   "id": "874dda7e",
   "metadata": {},
   "outputs": [
    {
     "name": "stdout",
     "output_type": "stream",
     "text": [
      "Count of regions with more than 30 entries: 6\n"
     ]
    }
   ],
   "source": [
    "thirty_more = (rental_aprt.region.value_counts() >= 30).sum()\n",
    "print(f'Count of regions with more than 30 entries: {thirty_more}')"
   ]
  },
  {
   "cell_type": "markdown",
   "id": "b1a54b1e",
   "metadata": {},
   "source": [
    "Therefore, sub-setting is in order. Here, a list that contains regions with 30 entries across the variables, `thirty_entries` is obtained and then used to subset the DataFrame. Note that the local variable `thirty_more` which was defined previously is used to obtain only the names of regions which met the 30 data entries threshold. It is evident that about 150 of the data entries did not meet the minimum requirement size of 30. "
   ]
  },
  {
   "cell_type": "code",
   "execution_count": 8,
   "id": "f7bdfecc",
   "metadata": {
    "scrolled": true
   },
   "outputs": [
    {
     "name": "stdout",
     "output_type": "stream",
     "text": [
      "(1698, 5)\n",
      "            region  rental_price  sq_mtrs  Bedrooms  Bathrooms\n",
      "0        Westlands        155000      4.0       4.0        4.0\n",
      "1  Dagoretti North        100000    300.0       3.0        4.0\n",
      "2  Dagoretti North         75000      3.0       3.0        5.0\n",
      "3  Dagoretti North        135000    227.0       3.0        4.0\n",
      "5        Westlands        150000      2.0       2.0        NaN\n"
     ]
    }
   ],
   "source": [
    "thirty_entries = rental_aprt.region\\\n",
    "                .value_counts()\\\n",
    "                .index\\\n",
    "                .to_list()[:thirty_more]\n",
    "\n",
    "rental_aprt = rental_aprt[rental_aprt.region.isin(thirty_entries)]\n",
    "print(rental_aprt.shape)\n",
    "print(rental_aprt.head())"
   ]
  },
  {
   "cell_type": "markdown",
   "id": "a735ae22",
   "metadata": {},
   "source": [
    "## Handling Missing Values\n",
    "\n",
    "Checking the missing values it is evident that `Bedrooms` and `sq_mtrs` have 3 and 2 missing values respectively. However, `Bathroom` has a large number of missing values 262."
   ]
  },
  {
   "cell_type": "code",
   "execution_count": 9,
   "id": "b9c3084e",
   "metadata": {},
   "outputs": [
    {
     "data": {
      "text/plain": [
       "region            0\n",
       "rental_price      0\n",
       "sq_mtrs           2\n",
       "Bedrooms          3\n",
       "Bathrooms       262\n",
       "dtype: int64"
      ]
     },
     "execution_count": 9,
     "metadata": {},
     "output_type": "execute_result"
    }
   ],
   "source": [
    "rental_aprt.isna().sum()"
   ]
  },
  {
   "cell_type": "markdown",
   "id": "52af01ea",
   "metadata": {},
   "source": [
    "To handle this, the `region` column is dropped and an imputer used to compute a value for the median number of `sq_mtrs`, `bedrooms`, and `bathrooms`. Median used because it is robust when it comes to outliers. However, the data type is `Object` which presents some challenges during analysis. Therefore, it has to be converted to categorical data."
   ]
  },
  {
   "cell_type": "code",
   "execution_count": 10,
   "id": "8bc0d3cc",
   "metadata": {},
   "outputs": [
    {
     "name": "stdout",
     "output_type": "stream",
     "text": [
      "            region  rental_price  sq_mtrs  Bedrooms  Bathrooms\n",
      "0        Westlands        155000      4.0       4.0        4.0\n",
      "1  Dagoretti North        100000    300.0       3.0        4.0\n",
      "2  Dagoretti North         75000      3.0       3.0        5.0\n",
      "3  Dagoretti North        135000    227.0       3.0        4.0\n",
      "5        Westlands        150000      2.0       2.0        2.0\n"
     ]
    }
   ],
   "source": [
    "rental_aprt.fillna(rental_aprt.drop('region', axis=1).median(),\\\n",
    "                   inplace=True)\n",
    "\n",
    "rental_aprt['region'] = rental_aprt.region.astype('category')\n",
    "print(rental_aprt.head())"
   ]
  },
  {
   "cell_type": "markdown",
   "id": "f7b29c3d",
   "metadata": {},
   "source": [
    "# **Z-Score**"
   ]
  },
  {
   "cell_type": "markdown",
   "id": "98ecddf7",
   "metadata": {},
   "source": [
    "## Setting Significance Level\n",
    "\n",
    "The significance level is set at 0.1. That is, if 10 out of 100 houses are priced at 100K, $H_0$ is accepted or else otherwise. "
   ]
  },
  {
   "cell_type": "code",
   "execution_count": 11,
   "id": "262f0107",
   "metadata": {},
   "outputs": [],
   "source": [
    "alpha = 0.1"
   ]
  },
  {
   "cell_type": "markdown",
   "id": "3a9f6a23",
   "metadata": {},
   "source": [
    "## Formulating Hypothesis Statement\n",
    "\n",
    "The hypothesized average rental prices in these 6 regions is KSh 100K. The value arrived at after finding the median which is robust to variability. Therefore, \n",
    "\n",
    "$H_0$: The average house rent price is KSh 100K. \n",
    "\n",
    "$H_A$: The average house rent price is higher than KSh 100K because the prices in real estate are currently going up."
   ]
  },
  {
   "cell_type": "code",
   "execution_count": 12,
   "id": "4d3e10af",
   "metadata": {},
   "outputs": [
    {
     "data": {
      "text/plain": [
       "100000.0"
      ]
     },
     "execution_count": 12,
     "metadata": {},
     "output_type": "execute_result"
    }
   ],
   "source": [
    "hypothesized_price = rental_aprt.rental_price.median()\n",
    "hypothesized_price"
   ]
  },
  {
   "cell_type": "markdown",
   "id": "73dade69",
   "metadata": {},
   "source": [
    "## Calculating Point Estimate\n",
    "\n",
    "Let's begin our analysis by calculating a point estimate (or sample statistic), namely the proportion of rental prices."
   ]
  },
  {
   "cell_type": "code",
   "execution_count": 13,
   "id": "d753ffbc",
   "metadata": {},
   "outputs": [
    {
     "data": {
      "text/plain": [
       "101368.95936395759"
      ]
     },
     "execution_count": 13,
     "metadata": {},
     "output_type": "execute_result"
    }
   ],
   "source": [
    "sample_price = rental_aprt.rental_price.mean()\n",
    "sample_price"
   ]
  },
  {
   "cell_type": "markdown",
   "id": "171c5489",
   "metadata": {},
   "source": [
    "## Computing z-score\n",
    "\n",
    "The result is different from our hypothesis, but is it meaningfully different? To answer this we'll calculate the z-score. First, a bootstrap sample is generated."
   ]
  },
  {
   "cell_type": "code",
   "execution_count": 14,
   "id": "230ee226",
   "metadata": {},
   "outputs": [],
   "source": [
    "np.random.seed(42)\n",
    "bootstrap_sample = []\n",
    "\n",
    "for _ in range(3000):\n",
    "    bootstrap = np.mean(rental_aprt.rental_price.sample(frac=1, replace=True))\n",
    "    bootstrap_sample.append(bootstrap)"
   ]
  },
  {
   "cell_type": "markdown",
   "id": "4360d543",
   "metadata": {},
   "source": [
    "### Visualzing the Means in Boostrap's Histogram\n",
    "\n",
    "Let's visualize our sample mean and hypothesized mean in this distribution in the bootstrap sample. Notice that the histogram is bell shaped, hence it's roughly normally distributed. Also, note that the hypothesized average house price\n",
    "is on the left of the distribution."
   ]
  },
  {
   "cell_type": "code",
   "execution_count": 15,
   "id": "46e061a5",
   "metadata": {},
   "outputs": [
    {
     "data": {
      "image/png": "[encoded data removed]",
      "text/plain": [
       "<Figure size 432x288 with 1 Axes>"
      ]
     },
     "metadata": {},
     "output_type": "display_data"
    }
   ],
   "source": [
    "plt.hist(bootstrap_sample, color='grey')\n",
    "plt.axvline([sample_price], label='sample average')\n",
    "plt.axvline([hypothesized_price], \n",
    "            label='hypothesized average',\n",
    "            color='r')\n",
    "plt.xlabel('House Prices (KSh)')\n",
    "plt.ylabel('Frequency')\n",
    "plt.legend()\n",
    "plt.show()"
   ]
  },
  {
   "cell_type": "markdown",
   "id": "5f652279",
   "metadata": {},
   "source": [
    "### Standardization\n",
    "\n",
    "Before performing a hypothesis test, we need to standardize the rental price values since variables have arbitrary units and ranges. For this hypothesis test, we use the z-score.\n",
    "\n",
    "$$z = \\frac{\\text{sample statistics - hypothesized parameter value}}{\\text{standard error}}$$\n",
    "\n",
    "All the values are already present except for the standard error which we'll calculate by getting the standard deviation of the bootstrap sample. After which, we'll substitute them into the equation. \n",
    "\n",
    "- Here, the standard error is 1.47. Is this a big or a small number?"
   ]
  },
  {
   "cell_type": "code",
   "execution_count": 16,
   "id": "1dd2e2d4",
   "metadata": {},
   "outputs": [
    {
     "name": "stdout",
     "output_type": "stream",
     "text": [
      "1.4662924621401678\n"
     ]
    }
   ],
   "source": [
    "std_error = np.std(bootstrap_sample, ddof=1)\n",
    "z_score = (sample_price - hypothesized_price) / std_error\n",
    "print(z_score)"
   ]
  },
  {
   "cell_type": "markdown",
   "id": "2ea672b2",
   "metadata": {},
   "source": [
    "## Computing p-Value\n",
    "\n",
    "p-value quantify how much evidence there is for the acceptance or rejection of the null hypothesis. To compute it, the `z_score` value is passed to the standard normal CDF, `norm.cdf()`, from `scipy.stats`. For now, the defaults are left as they are: mean zero and standard deviation of one. \n",
    "\n",
    "- Here, the appropriate test will be a right tailed test. Thus, the p-value is computed by taking one minus the `norm.cdf()` result. \n",
    "\n",
    "From the result 7 out of 100 of the houses are priced at 100K. "
   ]
  },
  {
   "cell_type": "code",
   "execution_count": 17,
   "id": "10f7497c",
   "metadata": {},
   "outputs": [
    {
     "name": "stdout",
     "output_type": "stream",
     "text": [
      "0.07128431407028146\n"
     ]
    }
   ],
   "source": [
    "p_value = 1 - norm.cdf(z_score)\n",
    "print(p_value)"
   ]
  },
  {
   "cell_type": "markdown",
   "id": "56bac832",
   "metadata": {},
   "source": [
    "## Making Decision\n",
    "\n",
    "The p-value is less than the alpha value. Therefore, we reject the null hypothesis. Keep in mind that this result could be a false positive (Type I) error. That is, chosing $H_A$ when $H_0$ could be the right choice."
   ]
  },
  {
   "cell_type": "code",
   "execution_count": 18,
   "id": "2cbb45b0",
   "metadata": {},
   "outputs": [
    {
     "data": {
      "text/plain": [
       "False"
      ]
     },
     "execution_count": 18,
     "metadata": {},
     "output_type": "execute_result"
    }
   ],
   "source": [
    "p_value > alpha"
   ]
  },
  {
   "cell_type": "markdown",
   "id": "40c503ff",
   "metadata": {},
   "source": [
    "### Computing the Confidence Interval\n",
    "\n",
    "Due to sampling variability, sample statistics are bound to be wrong by some amount. Here, the hypothesized value for rental prices is 100K while the calculated was 101K, so it is goo to state the confidence interval. Being that an $\\alpha$ of 0.1 was used, the confidence interval of $1 - \\alpha$ will be 99%. \n",
    "\n",
    "- With a 99% CI, the average rental prices is between KSh 99K and KSh 102K. Therefore, since KSh 101K is included in the 99% CI and we had already rejected $H_0$ due to the small p-value, the confidence interval tells us otherwise. This outcome confirms that indeed there was a Type I error."
   ]
  },
  {
   "cell_type": "code",
   "execution_count": 19,
   "id": "135cf869",
   "metadata": {},
   "outputs": [
    {
     "data": {
      "text/plain": [
       "(99859.14540636043, 102917.05992343933)"
      ]
     },
     "execution_count": 19,
     "metadata": {},
     "output_type": "execute_result"
    }
   ],
   "source": [
    "lower = np.quantile(bootstrap_sample, 0.05)\n",
    "upper = np.quantile(bootstrap_sample, 0.95)\n",
    "\n",
    "lower, upper"
   ]
  },
  {
   "cell_type": "markdown",
   "id": "12dcc195",
   "metadata": {},
   "source": [
    "# Two-Sample t-Test\n",
    "\n",
    "Dagoretti North and Westlands have entries above 600 while the rest have entries below 100. Therefore, the first analysis will focus on the two regions and the second one on the others. "
   ]
  },
  {
   "cell_type": "code",
   "execution_count": 20,
   "id": "3c57f702",
   "metadata": {
    "scrolled": true
   },
   "outputs": [
    {
     "data": {
      "image/png": "[encoded data removed]",
      "text/plain": [
       "<Figure size 432x288 with 1 Axes>"
      ]
     },
     "metadata": {},
     "output_type": "display_data"
    }
   ],
   "source": [
    "rental_aprt.region\\\n",
    "        .value_counts(ascending=True)\\\n",
    "        .plot(kind='barh', \n",
    "              title='Number of house data collected based on regions',\n",
    "              xlabel='Region')\n",
    "plt.show()"
   ]
  },
  {
   "cell_type": "markdown",
   "id": "f9655994",
   "metadata": {},
   "source": [
    "## Question and Hypotheses\n",
    "\n",
    "Therefore, the question is:\n",
    "\n",
    "- \"*Are rental prices in Dagoretti North equal to rental prices in Westlands?*\"\n",
    "\n",
    "The null hypothesis is that the overall rental prices is equal in both location, while the alternative hypotheis is that rental price in Dagoretti North is not equal to those in Westlands.\n",
    "\n",
    "- $H_0: \\mu_{\\text{Dagoretti North}} - \\mu_{\\text{Westlands}} = 0$\n",
    "\n",
    "- $H_A: \\mu_{\\text{Dagoretti North}} - \\mu_{\\text{Westlands}} \\neq 0$"
   ]
  },
  {
   "cell_type": "code",
   "execution_count": null,
   "id": "b80ebe38",
   "metadata": {},
   "outputs": [],
   "source": [
    "west_dago = rental_aprt[(rental_aprt.region=='Westlands')\\\n",
    "                        | (rental_aprt.region == 'Dagoretti North')]\n",
    "print(west_dago.head())"
   ]
  },
  {
   "cell_type": "markdown",
   "id": "9c0b3cb9",
   "metadata": {},
   "source": [
    "## Distribution of Variables\n",
    "\n",
    "Here, the approriate test will be a t-test. A check for normality reveals that rental prices in Westlands follows a normal distribution while in Dagoretti North the distribution is a slightly skewed to the right. \n",
    "\n",
    "- For now a t-test will be conducted for both variables. Any adjustment will be made later on. As before, the significance level is set at 0.1"
   ]
  },
  {
   "cell_type": "code",
   "execution_count": 55,
   "id": "76b7bef5",
   "metadata": {},
   "outputs": [
    {
     "data": {
      "image/png": "[encoded data removed]",
      "text/plain": [
       "<Figure size 576x360 with 2 Axes>"
      ]
     },
     "metadata": {},
     "output_type": "display_data"
    }
   ],
   "source": [
    "westland = west_dago[west_dago.region == 'Westlands'].rental_price\n",
    "dagoretti = west_dago[west_dago.region == 'Dagoretti North'].rental_price\n",
    "\n",
    "fig, (ax1, ax2) = plt.subplots(1, 2, figsize=(8, 5))\n",
    "with sns.axes_style('ticks'):\n",
    "    sns.histplot(dagoretti, kde=True, ax=ax1)\n",
    "    sns.histplot(westland, kde=True, ax=ax2)\n",
    "ax1.set_title('Dagoretti')\n",
    "ax2.set_title('Westlands');"
   ]
  },
  {
   "cell_type": "markdown",
   "id": "0ad8727d",
   "metadata": {},
   "source": [
    "## Levene's Test\n",
    "\n",
    "This test tests the null hypothesis that all input samples are from population with equal variance. Here the p-value is less than 0.05 thus we reject the null hypothesis and conclude that the samples comes from population with significant difference in population variance. \n",
    "\n",
    "- Being that the p-value of Levene's Test is quite sensitive to sample size, the test is only used for guidance."
   ]
  },
  {
   "cell_type": "code",
   "execution_count": 58,
   "id": "f6bc5184",
   "metadata": {},
   "outputs": [
    {
     "data": {
      "text/plain": [
       "LeveneResult(statistic=16.011414974093732, pvalue=6.60369888945088e-05)"
      ]
     },
     "execution_count": 58,
     "metadata": {},
     "output_type": "execute_result"
    }
   ],
   "source": [
    "levene(dagoretti, westland, \n",
    "       center='mean', \n",
    "       proportiontocut=0.05)"
   ]
  },
  {
   "cell_type": "markdown",
   "id": "47608959",
   "metadata": {},
   "source": [
    "## Summary Statistics\n",
    "\n",
    "The summary statistics shows that the average rental prices in Dagoretti North is about 100K while in Westlands it is about 116K. The question is whether this difference is statistically significant or is it as a result of sampling variability."
   ]
  },
  {
   "cell_type": "code",
   "execution_count": 22,
   "id": "2ed71e58",
   "metadata": {},
   "outputs": [
    {
     "data": {
      "text/plain": [
       "region\n",
       "Dagoretti North    100124.705882\n",
       "Westlands          116943.835385\n",
       "Name: rental_price, dtype: float64"
      ]
     },
     "execution_count": 22,
     "metadata": {},
     "output_type": "execute_result"
    }
   ],
   "source": [
    "\n",
    "west_dago.groupby('region')['rental_price'].mean().dropna()"
   ]
  },
  {
   "cell_type": "markdown",
   "id": "b310e605",
   "metadata": {},
   "source": [
    "## Calculating Test Statistics and p-Value\n",
    "\n",
    "Assuming that null hypothesis is true, $t$ is given by the equation: \n",
    "\n",
    "$$t = \\frac{(\\bar{x}_{\\text{Dago}} - \\bar{x}_{\\text{Westy}})}{\\sqrt{\\frac{s^2_{\\text{Dago}}}{n_{\\text{Dago}}} + \\frac{s^2_{\\text{Westy}}}{n_{\\text{Westy}}}}}$$\n",
    "\n",
    "Being that this is a two sided t-test, we'll use the `pingouin` package to calculate the t statistics and other results. Note that this is not an independent test thus the `paired` argument is set to `False` which is the default.\n",
    "\n",
    "- With a p-value less than 0.01, we reject the null hypothesis and conclude that there is a significant difference in rental prices in Dagoretti North and Westlands."
   ]
  },
  {
   "cell_type": "code",
   "execution_count": 44,
   "id": "28beb13e",
   "metadata": {},
   "outputs": [
    {
     "name": "stdout",
     "output_type": "stream",
     "text": [
      "               T          dof alternative         p-val  \\\n",
      "T-test -9.385469  1297.012572   two-sided  2.707531e-20   \n",
      "\n",
      "                                             CI99%   cohen-d       BF10  power  \n",
      "T-test  [-21441.919524105244, -12196.339480419667]  0.497431  1.581e+17    1.0  \n"
     ]
    }
   ],
   "source": [
    "t_test_results = pingouin.ttest(x=dagoretti, \n",
    "                                y=westland, \n",
    "                                alternative='two-sided',\n",
    "                                paired=False,\n",
    "                                confidence=0.99)\n",
    "print(t_test_results)"
   ]
  },
  {
   "cell_type": "code",
   "execution_count": null,
   "id": "0ab3be99",
   "metadata": {},
   "outputs": [],
   "source": []
  },
  {
   "cell_type": "code",
   "execution_count": null,
   "id": "4b7ea3c9",
   "metadata": {},
   "outputs": [],
   "source": []
  },
  {
   "cell_type": "code",
   "execution_count": null,
   "id": "b542bf2d",
   "metadata": {},
   "outputs": [],
   "source": []
  },
  {
   "cell_type": "code",
   "execution_count": null,
   "id": "edcaeb24",
   "metadata": {},
   "outputs": [],
   "source": []
  },
  {
   "cell_type": "code",
   "execution_count": null,
   "id": "e5fbf768",
   "metadata": {},
   "outputs": [],
   "source": []
  },
  {
   "cell_type": "markdown",
   "id": "66cd0755",
   "metadata": {},
   "source": [
    "What's the correlation between rental price and the house square metric"
   ]
  },
  {
   "cell_type": "code",
   "execution_count": null,
   "id": "41a02bed",
   "metadata": {},
   "outputs": [],
   "source": [
    "correlations = rental_aprt.corr()\n",
    "sns.heatmap(correlations, annot=True)\n",
    "plt.show()"
   ]
  },
  {
   "cell_type": "code",
   "execution_count": null,
   "id": "d6c5905a",
   "metadata": {},
   "outputs": [],
   "source": [
    "\n",
    "sns.regplot(data=a, x='sq_mtrs', y='rental_price', ci=None)"
   ]
  },
  {
   "cell_type": "code",
   "execution_count": null,
   "id": "9f767ad9",
   "metadata": {},
   "outputs": [],
   "source": [
    "centering = lambda x: x - x.mean()\n",
    "a = rental_aprt.drop('region', axis=1).apply(centering)"
   ]
  },
  {
   "cell_type": "code",
   "execution_count": null,
   "id": "72b89ead",
   "metadata": {},
   "outputs": [],
   "source": [
    "a"
   ]
  },
  {
   "cell_type": "markdown",
   "id": "f3d2af8f",
   "metadata": {},
   "source": [
    "## Question\n",
    "\n",
    "The first question is "
   ]
  },
  {
   "cell_type": "code",
   "execution_count": null,
   "id": "a4999f89",
   "metadata": {},
   "outputs": [],
   "source": []
  },
  {
   "cell_type": "code",
   "execution_count": null,
   "id": "c780ff2c",
   "metadata": {},
   "outputs": [],
   "source": [
    "rental_aprt.groupby('region')['rental_price']\\\n",
    "        .mean()\\\n",
    "        .sort_values().plot(kind='barh',\n",
    "                            title='Average House Rent Price per Region')\n",
    "plt.xlabel('Average price (KSh)')\n",
    "plt.show()"
   ]
  },
  {
   "cell_type": "code",
   "execution_count": null,
   "id": "a6c4a2c5",
   "metadata": {},
   "outputs": [],
   "source": []
  },
  {
   "cell_type": "code",
   "execution_count": null,
   "id": "cd928b99",
   "metadata": {},
   "outputs": [],
   "source": [
    "hist_dist('Westlands', 'rental_price', 'hist')"
   ]
  }
 ],
 "metadata": {
  "kernelspec": {
   "display_name": "Python 3 (ipykernel)",
   "language": "python",
   "name": "python3"
  },
  "language_info": {
   "codemirror_mode": {
    "name": "ipython",
    "version": 3
   },
   "file_extension": ".py",
   "mimetype": "text/x-python",
   "name": "python",
   "nbconvert_exporter": "python",
   "pygments_lexer": "ipython3",
   "version": "3.8.13"
  },
  "toc": {
   "base_numbering": 1,
   "nav_menu": {},
   "number_sections": true,
   "sideBar": true,
   "skip_h1_title": false,
   "title_cell": "Table of Contents",
   "title_sidebar": "Contents",
   "toc_cell": false,
   "toc_position": {
    "height": "calc(100% - 180px)",
    "left": "10px",
    "top": "150px",
    "width": "165px"
   },
   "toc_section_display": true,
   "toc_window_display": true
  },
  "varInspector": {
   "cols": {
    "lenName": 16,
    "lenType": 16,
    "lenVar": 40
   },
   "kernels_config": {
    "python": {
     "delete_cmd_postfix": "",
     "delete_cmd_prefix": "del ",
     "library": "var_list.py",
     "varRefreshCmd": "print(var_dic_list())"
    },
    "r": {
     "delete_cmd_postfix": ") ",
     "delete_cmd_prefix": "rm(",
     "library": "var_list.r",
     "varRefreshCmd": "cat(var_dic_list()) "
    }
   },
   "types_to_exclude": [
    "module",
    "function",
    "builtin_function_or_method",
    "instance",
    "_Feature"
   ],
   "window_display": false
  }
 },
 "nbformat": 4,
 "nbformat_minor": 5
}
