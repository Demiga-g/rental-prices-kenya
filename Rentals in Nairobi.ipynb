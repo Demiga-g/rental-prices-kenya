{
 "cells": [
  {
   "cell_type": "markdown",
   "id": "83cfbd05",
   "metadata": {},
   "source": [
    "# **Kenya Housing Value Details**\n",
    "\n",
    "Among the worst hit sectors due to Covid-19 was the real estate. According to the data provided by the [Kenya Property Center](https://kenyapropertycentre.com/market-trends/average-prices), Nairobi tops the list of county with an average high of KSh 70,000 per month in rental houses followed by Mombasa and Kilifi with an average of KSh 40,000 per month. Based on towns, Lavington, Karen, an Westlands top the list with an average monthly rental charges of KSh 210K, KSh 150K, and 130K respectively. The dataset of interest is obtained [here](https://www.kaggle.com/datasets/iamasteriix/rental-apartments-in-kenya)."
   ]
  },
  {
   "cell_type": "code",
   "execution_count": 1,
   "id": "29d63f1d",
   "metadata": {
    "scrolled": true
   },
   "outputs": [
    {
     "name": "stderr",
     "output_type": "stream",
     "text": [
      "C:\\Users\\mideg\\anaconda3\\lib\\site-packages\\outdated\\utils.py:14: OutdatedPackageWarning: The package pingouin is out of date. Your version is 0.5.1, the latest is 0.5.2.\n",
      "Set the environment variable OUTDATED_IGNORE=1 to disable these warnings.\n",
      "  return warn(\n"
     ]
    },
    {
     "data": {
      "text/html": [
       "<div>\n",
       "<style scoped>\n",
       "    .dataframe tbody tr th:only-of-type {\n",
       "        vertical-align: middle;\n",
       "    }\n",
       "\n",
       "    .dataframe tbody tr th {\n",
       "        vertical-align: top;\n",
       "    }\n",
       "\n",
       "    .dataframe thead th {\n",
       "        text-align: right;\n",
       "    }\n",
       "</style>\n",
       "<table border=\"1\" class=\"dataframe\">\n",
       "  <thead>\n",
       "    <tr style=\"text-align: right;\">\n",
       "      <th></th>\n",
       "      <th>Agency</th>\n",
       "      <th>Neighborhood</th>\n",
       "      <th>Price</th>\n",
       "      <th>link</th>\n",
       "      <th>sq_mtrs</th>\n",
       "      <th>Bedrooms</th>\n",
       "      <th>Bathrooms</th>\n",
       "    </tr>\n",
       "  </thead>\n",
       "  <tbody>\n",
       "    <tr>\n",
       "      <th>0</th>\n",
       "      <td>Buy Rent Shelters</td>\n",
       "      <td>General Mathenge, Westlands</td>\n",
       "      <td>KSh 155,000</td>\n",
       "      <td>/listings/4-bedroom-apartment-for-rent-general...</td>\n",
       "      <td>4.0</td>\n",
       "      <td>4.0</td>\n",
       "      <td>4.0</td>\n",
       "    </tr>\n",
       "    <tr>\n",
       "      <th>1</th>\n",
       "      <td>Kenya Classic Homes</td>\n",
       "      <td>Kilimani, Dagoretti North</td>\n",
       "      <td>KSh 100,000</td>\n",
       "      <td>/listings/3-bedroom-apartment-for-rent-kiliman...</td>\n",
       "      <td>300.0</td>\n",
       "      <td>3.0</td>\n",
       "      <td>4.0</td>\n",
       "    </tr>\n",
       "    <tr>\n",
       "      <th>2</th>\n",
       "      <td>Absolute Estate Agents</td>\n",
       "      <td>Hatheru Rd,, Lavington, Dagoretti North</td>\n",
       "      <td>KSh 75,000</td>\n",
       "      <td>/listings/3-bedroom-apartment-for-rent-lavingt...</td>\n",
       "      <td>3.0</td>\n",
       "      <td>3.0</td>\n",
       "      <td>5.0</td>\n",
       "    </tr>\n",
       "    <tr>\n",
       "      <th>3</th>\n",
       "      <td>A1 Properties Limited</td>\n",
       "      <td>Kilimani, Dagoretti North</td>\n",
       "      <td>KSh 135,000</td>\n",
       "      <td>/listings/3-bedroom-apartment-for-rent-kiliman...</td>\n",
       "      <td>227.0</td>\n",
       "      <td>3.0</td>\n",
       "      <td>4.0</td>\n",
       "    </tr>\n",
       "    <tr>\n",
       "      <th>4</th>\n",
       "      <td>Pmc Estates Limited</td>\n",
       "      <td>Imara Daima, Embakasi</td>\n",
       "      <td>KSh 50,000</td>\n",
       "      <td>/listings/3-bedroom-apartment-for-rent-imara-d...</td>\n",
       "      <td>3.0</td>\n",
       "      <td>3.0</td>\n",
       "      <td>NaN</td>\n",
       "    </tr>\n",
       "  </tbody>\n",
       "</table>\n",
       "</div>"
      ],
      "text/plain": [
       "                   Agency                             Neighborhood  \\\n",
       "0       Buy Rent Shelters              General Mathenge, Westlands   \n",
       "1     Kenya Classic Homes                Kilimani, Dagoretti North   \n",
       "2  Absolute Estate Agents  Hatheru Rd,, Lavington, Dagoretti North   \n",
       "3   A1 Properties Limited                Kilimani, Dagoretti North   \n",
       "4     Pmc Estates Limited                    Imara Daima, Embakasi   \n",
       "\n",
       "         Price                                               link  sq_mtrs  \\\n",
       "0  KSh 155,000  /listings/4-bedroom-apartment-for-rent-general...      4.0   \n",
       "1  KSh 100,000  /listings/3-bedroom-apartment-for-rent-kiliman...    300.0   \n",
       "2   KSh 75,000  /listings/3-bedroom-apartment-for-rent-lavingt...      3.0   \n",
       "3  KSh 135,000  /listings/3-bedroom-apartment-for-rent-kiliman...    227.0   \n",
       "4   KSh 50,000  /listings/3-bedroom-apartment-for-rent-imara-d...      3.0   \n",
       "\n",
       "   Bedrooms  Bathrooms  \n",
       "0       4.0        4.0  \n",
       "1       3.0        4.0  \n",
       "2       3.0        5.0  \n",
       "3       3.0        4.0  \n",
       "4       3.0        NaN  "
      ]
     },
     "execution_count": 1,
     "metadata": {},
     "output_type": "execute_result"
    }
   ],
   "source": [
    "import pandas as pd\n",
    "import numpy as np\n",
    "import seaborn as sns\n",
    "import matplotlib.pyplot as plt\n",
    "%matplotlib inline\n",
    "sns.set_style('whitegrid')\n",
    "import pingouin\n",
    "from scipy.stats import norm, t, levene\n",
    "from statsmodels.stats import weightstats as stests\n",
    "\n",
    "\n",
    "apt_rents = pd.read_csv('rent_apts.csv')\n",
    "apt_rents.head()"
   ]
  },
  {
   "cell_type": "markdown",
   "id": "b4cbcb43",
   "metadata": {},
   "source": [
    "# **Data Cleaning & Selection** \n",
    "\n",
    "From the data, the variables of interest are `Neighborhood`, `Price`, House size (`sq_mtrs`), number of bedrooms (`bedrooms`)and `bathrooms`. However, before analysis, some cleaning is in order. As a starting point, only two variables will be considered$-$`Neighborhood` and `Price`. The remaining adjustments will be considered as analysis goes by."
   ]
  },
  {
   "cell_type": "code",
   "execution_count": 2,
   "id": "85796551",
   "metadata": {
    "scrolled": false
   },
   "outputs": [
    {
     "name": "stdout",
     "output_type": "stream",
     "text": [
      "<class 'pandas.core.frame.DataFrame'>\n",
      "RangeIndex: 1848 entries, 0 to 1847\n",
      "Data columns (total 7 columns):\n",
      " #   Column        Non-Null Count  Dtype  \n",
      "---  ------        --------------  -----  \n",
      " 0   Agency        1848 non-null   object \n",
      " 1   Neighborhood  1848 non-null   object \n",
      " 2   Price         1848 non-null   object \n",
      " 3   link          1848 non-null   object \n",
      " 4   sq_mtrs       1846 non-null   float64\n",
      " 5   Bedrooms      1845 non-null   float64\n",
      " 6   Bathrooms     1557 non-null   float64\n",
      "dtypes: float64(3), object(4)\n",
      "memory usage: 101.2+ KB\n"
     ]
    }
   ],
   "source": [
    "apt_rents.info()"
   ]
  },
  {
   "cell_type": "markdown",
   "id": "c5e1fe33",
   "metadata": {},
   "source": [
    "## Neighborhood to Region\n",
    "\n",
    "The `Neighborhood` variable contains the location of these houses. \n",
    "\n",
    "- A look at these values shows that there are over 600 unique places. However, the interest is on specific locations."
   ]
  },
  {
   "cell_type": "code",
   "execution_count": 3,
   "id": "5cc698ff",
   "metadata": {
    "scrolled": true
   },
   "outputs": [
    {
     "data": {
      "text/plain": [
       "647"
      ]
     },
     "execution_count": 3,
     "metadata": {},
     "output_type": "execute_result"
    }
   ],
   "source": [
    "len(apt_rents.Neighborhood.unique())"
   ]
  },
  {
   "cell_type": "markdown",
   "id": "fab52b34",
   "metadata": {},
   "source": [
    "Here, we create a column `region`. This column will contain the constituency name with a few exceptions of places like 'Mombasa Rd' among others. Now out of 647 unique `Neighborhoods` there are only 37 unique neighborhoods stored in the column `region`. Note that whitespace is removed."
   ]
  },
  {
   "cell_type": "code",
   "execution_count": 4,
   "id": "d6ef1f69",
   "metadata": {},
   "outputs": [
    {
     "name": "stdout",
     "output_type": "stream",
     "text": [
      "number of regions: 37 \n",
      "\n",
      "['Westlands' 'Dagoretti North' 'Embakasi' 'Thika Road' 'Thindigua' 'Nyali'\n",
      " 'Kiambaa' 'Kisauni' 'Dagoretti South' 'Kiambu Road' 'Roysambu' 'Kasarani'\n",
      " 'Kajiado North' 'Athi River' 'Ngong' 'Kikuyu' 'Ruiru' 'Kisumu Central'\n",
      " 'Kabete' 'Langata' 'Thika' 'Mombasa Road' 'Kisumu West' 'Thika East'\n",
      " 'Kilifi South' 'Ngong Road' 'Kiambu Town' 'Eldoret North'\n",
      " 'Kiambu Constituency' 'Starehe' 'Makadara' 'Kangundo' 'Mombasa CBD'\n",
      " 'Milimani' 'Mvita' 'Muthaiga' 'Ruaraka']\n"
     ]
    }
   ],
   "source": [
    "get_region = lambda x: x.rpartition(',')[-1]\n",
    "remove_space = lambda x: x.strip()\n",
    "\n",
    "apt_rents['region'] = apt_rents.Neighborhood\\\n",
    "                .apply(get_region)\\\n",
    "                .apply(remove_space)\n",
    "\n",
    "print('number of regions:', len(apt_rents.region.unique()), '\\n')\n",
    "print(apt_rents.region.unique())"
   ]
  },
  {
   "cell_type": "markdown",
   "id": "c6262941",
   "metadata": {},
   "source": [
    "## Rental Prices\n",
    "\n",
    "The `Price` variables also need some adjustments to convert it from an `Object` data type to integer.\n",
    "\n",
    "- To do this the comma and the `KSh` currency symbol are removed."
   ]
  },
  {
   "cell_type": "code",
   "execution_count": 5,
   "id": "84ad0844",
   "metadata": {},
   "outputs": [
    {
     "name": "stdout",
     "output_type": "stream",
     "text": [
      "0    155000\n",
      "1    100000\n",
      "2     75000\n",
      "3    135000\n",
      "4     50000\n",
      "Name: rental_price, dtype: int64\n"
     ]
    }
   ],
   "source": [
    "remove_character = lambda x: x.translate({ord(c): None for c in \",KSh\"})\n",
    "\n",
    "apt_rents['rental_price'] = apt_rents.Price\\\n",
    "        .apply(remove_character)\\\n",
    "        .astype('int64')\n",
    "\n",
    "print(apt_rents.rental_price.head())\n",
    "assert apt_rents.rental_price.dtype == 'int64'"
   ]
  },
  {
   "cell_type": "markdown",
   "id": "d88d27e1",
   "metadata": {},
   "source": [
    "## Data Selection\n",
    "\n",
    "The variables `Agency` and `link` won't be of use in this analysis but they provide some useful information to buyers. \n",
    "\n",
    "- Onwards, the data for analysis is stored in `rental_aprt` DataFrame."
   ]
  },
  {
   "cell_type": "code",
   "execution_count": 6,
   "id": "fd5f4318",
   "metadata": {
    "scrolled": false
   },
   "outputs": [
    {
     "name": "stdout",
     "output_type": "stream",
     "text": [
      "            region  rental_price  sq_mtrs  Bedrooms  Bathrooms\n",
      "0        Westlands        155000      4.0       4.0        4.0\n",
      "1  Dagoretti North        100000    300.0       3.0        4.0\n",
      "2  Dagoretti North         75000      3.0       3.0        5.0\n",
      "3  Dagoretti North        135000    227.0       3.0        4.0\n",
      "4         Embakasi         50000      3.0       3.0        NaN\n"
     ]
    }
   ],
   "source": [
    "rental_aprt = apt_rents[['region', 'rental_price', \n",
    "                         'sq_mtrs', 'Bedrooms', \n",
    "                         'Bathrooms']]\n",
    "print(rental_aprt.head())"
   ]
  },
  {
   "cell_type": "markdown",
   "id": "1019e333",
   "metadata": {},
   "source": [
    "## Further Selection\n",
    "\n",
    "This analysis will be based on regions. Therefore, to use parametric analysis, each `region` should have about 30 entries across the variables. \n",
    "\n",
    "- Going by this assumptions, only 6 regions meet the requirement."
   ]
  },
  {
   "cell_type": "code",
   "execution_count": 7,
   "id": "874dda7e",
   "metadata": {},
   "outputs": [
    {
     "name": "stdout",
     "output_type": "stream",
     "text": [
      "Count of regions with more than 30 entries: 6\n"
     ]
    }
   ],
   "source": [
    "thirty_more = (rental_aprt.region.value_counts() >= 30).sum()\n",
    "print(f'Count of regions with more than 30 entries: {thirty_more}')"
   ]
  },
  {
   "cell_type": "markdown",
   "id": "b1a54b1e",
   "metadata": {},
   "source": [
    "Therefore, sub-setting is in order. Here, a list that contains regions with 30 entries across the variables, `thirty_entries` is obtained and then used to subset the DataFrame. Note that the local variable `thirty_more` which was defined previously is used to obtain only the names of regions which met the 30 data entries threshold. \n",
    "\n",
    "- It is evident that about 150 of the data entries did not meet the minimum requirement size of 30. "
   ]
  },
  {
   "cell_type": "code",
   "execution_count": 8,
   "id": "f7bdfecc",
   "metadata": {
    "scrolled": true
   },
   "outputs": [
    {
     "name": "stdout",
     "output_type": "stream",
     "text": [
      "(1698, 5)\n",
      "            region  rental_price  sq_mtrs  Bedrooms  Bathrooms\n",
      "0        Westlands        155000      4.0       4.0        4.0\n",
      "1  Dagoretti North        100000    300.0       3.0        4.0\n",
      "2  Dagoretti North         75000      3.0       3.0        5.0\n",
      "3  Dagoretti North        135000    227.0       3.0        4.0\n",
      "5        Westlands        150000      2.0       2.0        NaN\n"
     ]
    }
   ],
   "source": [
    "thirty_entries = rental_aprt.region\\\n",
    "                .value_counts()\\\n",
    "                .index\\\n",
    "                .to_list()[:thirty_more]\n",
    "\n",
    "rental_aprt = rental_aprt[rental_aprt.region.isin(thirty_entries)]\n",
    "print(rental_aprt.shape)\n",
    "print(rental_aprt.head())"
   ]
  },
  {
   "cell_type": "markdown",
   "id": "a735ae22",
   "metadata": {},
   "source": [
    "## Handling Missing Values\n",
    "\n",
    "- Checking the missing values it is evident that `Bedrooms` and `sq_mtrs` have 3 and 2 missing values respectively. However, `Bathroom` has a large number of missing values 262."
   ]
  },
  {
   "cell_type": "code",
   "execution_count": 9,
   "id": "b9c3084e",
   "metadata": {},
   "outputs": [
    {
     "data": {
      "text/plain": [
       "region            0\n",
       "rental_price      0\n",
       "sq_mtrs           2\n",
       "Bedrooms          3\n",
       "Bathrooms       262\n",
       "dtype: int64"
      ]
     },
     "execution_count": 9,
     "metadata": {},
     "output_type": "execute_result"
    }
   ],
   "source": [
    "rental_aprt.isna().sum()"
   ]
  },
  {
   "cell_type": "markdown",
   "id": "52af01ea",
   "metadata": {},
   "source": [
    "To handle this, the `region` column is dropped and an imputer used to compute a value for the median number of `sq_mtrs`, `bedrooms`, and `bathrooms`. \n",
    "\n",
    "$\\checkmark$ Median used because it is robust when it comes to outliers. "
   ]
  },
  {
   "cell_type": "code",
   "execution_count": 10,
   "id": "8bc0d3cc",
   "metadata": {},
   "outputs": [],
   "source": [
    "rental_aprt.fillna(rental_aprt.drop('region', axis=1).median(),\\\n",
    "                   inplace=True)"
   ]
  },
  {
   "cell_type": "markdown",
   "id": "2c9172fe",
   "metadata": {},
   "source": [
    "- However, the data type is `Object` which presents some challenges during analysis. Therefore, it has to be converted to categorical data."
   ]
  },
  {
   "cell_type": "code",
   "execution_count": 11,
   "id": "82a3634f",
   "metadata": {},
   "outputs": [
    {
     "name": "stdout",
     "output_type": "stream",
     "text": [
      "            region  rental_price  sq_mtrs  Bedrooms  Bathrooms\n",
      "0        Westlands        155000      4.0       4.0        4.0\n",
      "1  Dagoretti North        100000    300.0       3.0        4.0\n",
      "2  Dagoretti North         75000      3.0       3.0        5.0\n",
      "3  Dagoretti North        135000    227.0       3.0        4.0\n",
      "5        Westlands        150000      2.0       2.0        2.0\n"
     ]
    }
   ],
   "source": [
    "rental_aprt['region'] = rental_aprt.region.astype('category')\n",
    "print(rental_aprt.head())"
   ]
  },
  {
   "cell_type": "markdown",
   "id": "f7b29c3d",
   "metadata": {},
   "source": [
    "# **Z-Score**"
   ]
  },
  {
   "cell_type": "markdown",
   "id": "3a9f6a23",
   "metadata": {},
   "source": [
    "## Formulating Hypothesis Statement From Point Estimates\n",
    "\n",
    "The hypothesized average rental prices in these 6 regions is KSh 100K. This value is arrived at after finding the mean and median of the houses in these regions (the point estimates). Therefore, \n",
    "\n",
    "$\\checkmark H_0$: The average house rent price is KSh 100K. \n",
    "\n",
    "$\\checkmark H_A$: The average house rent price is not KSh 100K."
   ]
  },
  {
   "cell_type": "code",
   "execution_count": 12,
   "id": "4d3e10af",
   "metadata": {},
   "outputs": [
    {
     "name": "stdout",
     "output_type": "stream",
     "text": [
      "mean:  101368.95936395759\n",
      "median:  100000.0\n"
     ]
    }
   ],
   "source": [
    "print('mean: ', rental_aprt.rental_price.mean())\n",
    "print('median: ', rental_aprt.rental_price.median())\n",
    "hypothesized_price = 100000"
   ]
  },
  {
   "cell_type": "markdown",
   "id": "98ecddf7",
   "metadata": {},
   "source": [
    "- The significance level is set at 0.2. Since that this is a two tailed test, alpha is divided by 2 to get 0.1."
   ]
  },
  {
   "cell_type": "code",
   "execution_count": 13,
   "id": "262f0107",
   "metadata": {},
   "outputs": [],
   "source": [
    "alpha = 0.2 / 2"
   ]
  },
  {
   "cell_type": "markdown",
   "id": "171c5489",
   "metadata": {},
   "source": [
    "## Computing z-score\n",
    "\n",
    "The average house price is about 101K which is slightly different from our hypothesized value of 100K. But is this value meaningfully different? \n",
    "\n",
    "- To answer this we'll calculate the z-score. First, a bootstrap sample is generated."
   ]
  },
  {
   "cell_type": "code",
   "execution_count": 14,
   "id": "230ee226",
   "metadata": {},
   "outputs": [],
   "source": [
    "#np.random.seed(42)\n",
    "bootstrap_sample = []\n",
    "\n",
    "for _ in range(3000):\n",
    "    bootstrap = np.mean(rental_aprt.rental_price.sample(frac=1, replace=True))\n",
    "    bootstrap_sample.append(bootstrap)"
   ]
  },
  {
   "cell_type": "markdown",
   "id": "4360d543",
   "metadata": {},
   "source": [
    "### Visualzing the Means in Boostrap's Histogram\n",
    "\n",
    "Let's visualize our sample mean and hypothesized mean in this distribution in the bootstrap sample. \n",
    "\n",
    "- First the Bootstrap sample mean is calculated."
   ]
  },
  {
   "cell_type": "code",
   "execution_count": 15,
   "id": "c24141e7",
   "metadata": {},
   "outputs": [
    {
     "data": {
      "text/plain": [
       "101327.45393973301"
      ]
     },
     "execution_count": 15,
     "metadata": {},
     "output_type": "execute_result"
    }
   ],
   "source": [
    "bootstrap_sample_mean = np.mean(bootstrap_sample)\n",
    "bootstrap_sample_mean"
   ]
  },
  {
   "cell_type": "markdown",
   "id": "77594f95",
   "metadata": {},
   "source": [
    "- Notice that the histogram is bell shaped, hence it's roughly normally distributed. Also, note that the hypothesized average house price is on the left of the distribution."
   ]
  },
  {
   "cell_type": "code",
   "execution_count": 16,
   "id": "46e061a5",
   "metadata": {},
   "outputs": [
    {
     "data": {
      "image/png": "[encoded data removed]",
      "text/plain": [
       "<Figure size 432x288 with 1 Axes>"
      ]
     },
     "metadata": {},
     "output_type": "display_data"
    }
   ],
   "source": [
    "plt.hist(bootstrap_sample, color='grey')\n",
    "plt.axvline([bootstrap_sample_mean], label='sample average')\n",
    "plt.axvline([hypothesized_price], \n",
    "            label='hypothesized average',\n",
    "            color='r')\n",
    "plt.xlabel('House Prices (KSh)')\n",
    "plt.ylabel('Frequency')\n",
    "plt.legend()\n",
    "plt.show()"
   ]
  },
  {
   "cell_type": "markdown",
   "id": "5f652279",
   "metadata": {},
   "source": [
    "### Standardization\n",
    "\n",
    "Before performing a hypothesis test, we need to standardize the rental price values since variables have arbitrary units and ranges. For this hypothesis test, we use the z-score.\n",
    "\n",
    "$$z = \\frac{\\text{sample statistics - hypothesized parameter value}}{\\text{standard error}}$$\n",
    "\n",
    "All the values are already present except for the standard error which is calculated by getting the standard deviation of the bootstrap sample. After which, we'll substitute them into the equation. \n",
    "\n",
    "- Here, the standard error is about 900. "
   ]
  },
  {
   "cell_type": "code",
   "execution_count": 17,
   "id": "cd941b1e",
   "metadata": {},
   "outputs": [
    {
     "data": {
      "text/plain": [
       "925.7041520826364"
      ]
     },
     "execution_count": 17,
     "metadata": {},
     "output_type": "execute_result"
    }
   ],
   "source": [
    "std_error = np.std(bootstrap_sample, ddof=1)\n",
    "std_error"
   ]
  },
  {
   "cell_type": "markdown",
   "id": "18a3a788",
   "metadata": {},
   "source": [
    "- The zscore is 1.49. Is this a big or a small number? Let's look at the p-value."
   ]
  },
  {
   "cell_type": "code",
   "execution_count": 18,
   "id": "1dd2e2d4",
   "metadata": {},
   "outputs": [
    {
     "name": "stdout",
     "output_type": "stream",
     "text": [
      "1.4339937189938283\n"
     ]
    }
   ],
   "source": [
    "z_score = (bootstrap_sample_mean - hypothesized_price) / std_error\n",
    "print(z_score)"
   ]
  },
  {
   "cell_type": "markdown",
   "id": "2ea672b2",
   "metadata": {},
   "source": [
    "## Computing p-Value\n",
    "\n",
    "p-value quantify how much evidence there is for the acceptance or rejection of the null hypothesis. Since this is a two sided test, we'll use `ztest()` from  `weightstats`. We'll pass our variable and since there is no second sample, we'll pass `None` to the parameter `x2` and the mean value of 100000 to the parameter `value`.\n",
    "\n",
    "- The z_test does not differ so much from the previously calculated z_score and now there is a computed p_value. "
   ]
  },
  {
   "cell_type": "code",
   "execution_count": 19,
   "id": "cbab021a",
   "metadata": {},
   "outputs": [
    {
     "name": "stdout",
     "output_type": "stream",
     "text": [
      "z_test: 1.465575201031459, \n",
      "p_value: 0.14276405137026352\n"
     ]
    }
   ],
   "source": [
    "z_test, p_value = stests.ztest(rental_aprt.rental_price, \n",
    "                               x2=None, \n",
    "                               value=100000)\n",
    "print(f'''z_test: {z_test}, \n",
    "p_value: {p_value}''')"
   ]
  },
  {
   "cell_type": "markdown",
   "id": "56bac832",
   "metadata": {},
   "source": [
    "## Making Decision\n",
    "\n",
    "The p-value is less than the alpha value. Therefore, we reject the null hypothesis. \n",
    "\n",
    "- Keep in mind that this result could be a false positive (Type I) error. That is, chosing $H_A$ when $H_0$ could be the right choice."
   ]
  },
  {
   "cell_type": "code",
   "execution_count": 20,
   "id": "2cbb45b0",
   "metadata": {},
   "outputs": [
    {
     "name": "stdout",
     "output_type": "stream",
     "text": [
      "Accept null hypothesis\n"
     ]
    }
   ],
   "source": [
    "if p_value < alpha:\n",
    "    print('Reject null hypothesis')\n",
    "else:\n",
    "    print('Accept null hypothesis')"
   ]
  },
  {
   "cell_type": "markdown",
   "id": "40c503ff",
   "metadata": {},
   "source": [
    "### Computing the Confidence Interval\n",
    "\n",
    "Due to sampling variability, sample statistics are bound to be wrong by some amount. Here, the hypothesized value for rental prices is 100K while the calculated was 101K, so it is goo to state the confidence interval. Being that an $\\alpha$ of 0.2 was used, the confidence interval of $1 - \\alpha$ will be 80%. \n",
    "\n",
    "- With an 80% CI, the average rental prices is between KSh 100,213 and KSh 102,547. Therefore, since KSh 101K is included in the 80% CI and we had already accepted $H_0$ due to the large p-value, the confidence interval agrees with the outcome. Thus confirming that indeed there was no Type I error violation."
   ]
  },
  {
   "cell_type": "code",
   "execution_count": 21,
   "id": "135cf869",
   "metadata": {},
   "outputs": [
    {
     "data": {
      "text/plain": [
       "(100126.8531213192, 102487.47938751473)"
      ]
     },
     "execution_count": 21,
     "metadata": {},
     "output_type": "execute_result"
    }
   ],
   "source": [
    "lower = np.quantile(bootstrap_sample, 0.1)\n",
    "upper = np.quantile(bootstrap_sample, 0.9)\n",
    "\n",
    "lower, upper"
   ]
  },
  {
   "cell_type": "markdown",
   "id": "d8cf0a02",
   "metadata": {},
   "source": [
    "$$.... \\text{ Next Task } ....$$"
   ]
  },
  {
   "cell_type": "markdown",
   "id": "12dcc195",
   "metadata": {},
   "source": [
    "# **Two-Sample t-Test**\n",
    "\n",
    "In the previous section, the data was analyzed collectively. Here, the data will be analyzed based on regions. Dagoretti North and Westlands have entries above 600 while the rest have entries below 100. Therefore, the first analysis will focus on these two regions while the second analysis on the remaining regions. \n",
    "\n",
    "- Below is a plot showing the frequency of houses in these regions"
   ]
  },
  {
   "cell_type": "code",
   "execution_count": 23,
   "id": "3c57f702",
   "metadata": {
    "scrolled": true
   },
   "outputs": [
    {
     "data": {
      "image/png": "[encoded data removed]",
      "text/plain": [
       "<Figure size 432x288 with 1 Axes>"
      ]
     },
     "metadata": {},
     "output_type": "display_data"
    }
   ],
   "source": [
    "rental_aprt.region\\\n",
    "        .value_counts(ascending=True)\\\n",
    "        .plot(kind='barh', \n",
    "              title='Number of house data collected based on regions',\n",
    "              xlabel='Region')\n",
    "plt.show()"
   ]
  },
  {
   "cell_type": "markdown",
   "id": "f9655994",
   "metadata": {},
   "source": [
    "## Question and Hypotheses\n",
    "\n",
    "Therefore, the question is:\n",
    "\n",
    "- \"*Are rental prices in Dagoretti North equal to rental prices in Westlands?*\"\n",
    "\n",
    "The null hypothesis is that the overall rental prices is equal in both location, while the alternative hypotheis is that rental price in Dagoretti North is not equal to those in Westlands.\n",
    "\n",
    "- $H_0: \\mu_{\\text{Dagoretti North}} - \\mu_{\\text{Westlands}} = 0$\n",
    "\n",
    "- $H_A: \\mu_{\\text{Dagoretti North}} - \\mu_{\\text{Westlands}} \\neq 0$"
   ]
  },
  {
   "cell_type": "markdown",
   "id": "9ebeee63",
   "metadata": {},
   "source": [
    "## Our Data\n",
    "\n",
    "- Before going further, we'll have to subset the data to get data for Dagoretti North and Westlands. "
   ]
  },
  {
   "cell_type": "code",
   "execution_count": 24,
   "id": "b80ebe38",
   "metadata": {},
   "outputs": [
    {
     "name": "stdout",
     "output_type": "stream",
     "text": [
      "            region  rental_price  sq_mtrs  Bedrooms  Bathrooms\n",
      "0        Westlands        155000      4.0       4.0        4.0\n",
      "1  Dagoretti North        100000    300.0       3.0        4.0\n",
      "2  Dagoretti North         75000      3.0       3.0        5.0\n",
      "3  Dagoretti North        135000    227.0       3.0        4.0\n",
      "5        Westlands        150000      2.0       2.0        2.0\n"
     ]
    }
   ],
   "source": [
    "west_dago = rental_aprt[(rental_aprt.region=='Westlands')\\\n",
    "                        | (rental_aprt.region == 'Dagoretti North')]\n",
    "\n",
    "westland = west_dago[west_dago.region == 'Westlands'].rental_price\n",
    "dagoretti = west_dago[west_dago.region == 'Dagoretti North'].rental_price\n",
    "\n",
    "print(west_dago.head())"
   ]
  },
  {
   "cell_type": "markdown",
   "id": "9c0b3cb9",
   "metadata": {},
   "source": [
    "## Distribution of Variables\n",
    "\n",
    "- A check for normality reveals that rental prices in Westlands follows a normal distribution while in Dagoretti North the distribution is a slightly skewed to the right. "
   ]
  },
  {
   "cell_type": "code",
   "execution_count": 25,
   "id": "76b7bef5",
   "metadata": {},
   "outputs": [
    {
     "data": {
      "image/png": "[encoded data removed]",
      "text/plain": [
       "<Figure size 576x360 with 2 Axes>"
      ]
     },
     "metadata": {},
     "output_type": "display_data"
    }
   ],
   "source": [
    "fig, (ax1, ax2) = plt.subplots(1, 2, figsize=(8, 5))\n",
    "with sns.axes_style('ticks'):\n",
    "    sns.histplot(dagoretti, kde=True, ax=ax1)\n",
    "    sns.histplot(westland, kde=True, ax=ax2)\n",
    "ax1.set_title('Dagoretti')\n",
    "ax2.set_title('Westlands');"
   ]
  },
  {
   "cell_type": "markdown",
   "id": "0ad8727d",
   "metadata": {},
   "source": [
    "## Levene's Test\n",
    "\n",
    "For now a t-test will be conducted for both variables. Any adjustment will be made later on. As before, the significance level is set at 0.1 The Levene's test tests the null hypothesis that all input samples are from population with equal variance. Here the p-value is less than 0.05 thus we reject the null hypothesis and conclude that the samples comes from population with significant difference in population variance. \n",
    "\n",
    "- Being that the p-value of Levene's Test is quite sensitive to sample size, the test is only used for guidance."
   ]
  },
  {
   "cell_type": "code",
   "execution_count": 26,
   "id": "f6bc5184",
   "metadata": {},
   "outputs": [
    {
     "data": {
      "text/plain": [
       "LeveneResult(statistic=16.011414974093732, pvalue=6.60369888945088e-05)"
      ]
     },
     "execution_count": 26,
     "metadata": {},
     "output_type": "execute_result"
    }
   ],
   "source": [
    "levene(dagoretti, westland, \n",
    "       center='mean', \n",
    "       proportiontocut=0.05)"
   ]
  },
  {
   "cell_type": "markdown",
   "id": "47608959",
   "metadata": {},
   "source": [
    "## Summary Statistics\n",
    "\n",
    "The summary statistics shows that the average rental prices in Dagoretti North is about 100K while in Westlands it is about 116K. The question is whether this difference is statistically significant or is it as a result of sampling variability."
   ]
  },
  {
   "cell_type": "code",
   "execution_count": 27,
   "id": "2ed71e58",
   "metadata": {},
   "outputs": [
    {
     "data": {
      "text/plain": [
       "region\n",
       "Dagoretti North    100124.705882\n",
       "Westlands          116943.835385\n",
       "Name: rental_price, dtype: float64"
      ]
     },
     "execution_count": 27,
     "metadata": {},
     "output_type": "execute_result"
    }
   ],
   "source": [
    "west_dago.groupby('region')['rental_price'].mean().dropna()"
   ]
  },
  {
   "cell_type": "markdown",
   "id": "b310e605",
   "metadata": {},
   "source": [
    "## Calculating Test Statistics and p-Value\n",
    "\n",
    "Assuming that null hypothesis is true, $t$ is given by the equation: \n",
    "\n",
    "$$t = \\frac{(\\bar{x}_{\\text{Dago}} - \\bar{x}_{\\text{Westy}})}{\\sqrt{\\frac{s^2_{\\text{Dago}}}{n_{\\text{Dago}}} + \\frac{s^2_{\\text{Westy}}}{n_{\\text{Westy}}}}}$$\n",
    "\n",
    "Being that this is a two sided t-test, we'll use the `pingouin` package to calculate the t statistics and other results. Note that this is an independent test thus the `paired` argument is set to `False` which is the default. Note that the sample sizes are unequal and we've set `correction=True`. This way, the `Welch–Satterthwaite` equation is used to approximate the adjusted degrees of freedom.\n",
    "\n",
    "$$v = \\frac{\\left(\\frac{s^2_x}{n_x} + \\frac{s^2_y}{n_y}\\right)^2}{\\frac{\\left(\\frac{s^2_x}{n_x}\\right)^2}{\\left(n_x - 1\\right)} + \\frac{\\left(\\frac{s^2_y}{n_y}\\right)^2}{\\left(n_y - 1\\right)}}$$"
   ]
  },
  {
   "cell_type": "markdown",
   "id": "5a9c54c9",
   "metadata": {},
   "source": [
    "- With a p-value less than 0.01, we reject the null hypothesis and conclude that there is a significant difference in rental prices in Dagoretti North and Westlands."
   ]
  },
  {
   "cell_type": "code",
   "execution_count": 29,
   "id": "28beb13e",
   "metadata": {},
   "outputs": [
    {
     "name": "stdout",
     "output_type": "stream",
     "text": [
      "               T          dof alternative         p-val  \\\n",
      "T-test -9.385469  1297.012572   two-sided  2.707531e-20   \n",
      "\n",
      "                                           CI80%   cohen-d       BF10  power  \n",
      "T-test  [-19116.89069225623, -14521.36831226868]  0.497431  1.581e+17    1.0  \n"
     ]
    }
   ],
   "source": [
    "t_test_results = pingouin.ttest(x=dagoretti, \n",
    "                                y=westland, \n",
    "                                alternative='two-sided',\n",
    "                                paired=False,\n",
    "                                confidence=0.80, \n",
    "                                correction=True)\n",
    "print(t_test_results)"
   ]
  },
  {
   "cell_type": "markdown",
   "id": "6b7595d3",
   "metadata": {},
   "source": [
    "- Alternatively, we can use `ttest_ind()` from `scipy.stats` to get similar results."
   ]
  },
  {
   "cell_type": "code",
   "execution_count": 30,
   "id": "c191b4d1",
   "metadata": {},
   "outputs": [
    {
     "data": {
      "text/plain": [
       "Ttest_indResult(statistic=-9.385468652722123, pvalue=2.7075312062428993e-20)"
      ]
     },
     "execution_count": 30,
     "metadata": {},
     "output_type": "execute_result"
    }
   ],
   "source": [
    "from scipy import stats\n",
    "stats.ttest_ind(dagoretti, westland, equal_var=False)"
   ]
  },
  {
   "cell_type": "markdown",
   "id": "4606e507",
   "metadata": {},
   "source": [
    "# **Analysis of Variance**\n",
    "\n",
    "The dataset has Kiambaa, Langata, Nyali, and Kiambu Road regions below 100 data entries therefore, analysis is done separately to avoid unequal variance. "
   ]
  },
  {
   "cell_type": "code",
   "execution_count": 31,
   "id": "537ca559",
   "metadata": {},
   "outputs": [
    {
     "data": {
      "image/png": "[encoded data removed]",
      "text/plain": [
       "<Figure size 432x288 with 1 Axes>"
      ]
     },
     "metadata": {},
     "output_type": "display_data"
    }
   ],
   "source": [
    "rental_aprt.region\\\n",
    "        .value_counts(ascending=True)\\\n",
    "        .plot(kind='barh', \n",
    "              title='Number of house data collected based on regions',\n",
    "              xlabel='Region')\n",
    "plt.show()"
   ]
  },
  {
   "cell_type": "markdown",
   "id": "bbf71ce6",
   "metadata": {},
   "source": [
    "## Question\n",
    "\n",
    "*Is the average rental price for these four regions different from each other?*"
   ]
  },
  {
   "cell_type": "code",
   "execution_count": null,
   "id": "9a75172e",
   "metadata": {},
   "outputs": [],
   "source": [
    "other_regions = rental_aprt[~(rental_aprt.region=='Westlands') &\\\n",
    "                            ~(rental_aprt.region == 'Dagoretti North')]\n",
    "\n",
    "print(other_regions.sample(5, random_state=35))"
   ]
  },
  {
   "cell_type": "markdown",
   "id": "7774cd6d",
   "metadata": {},
   "source": [
    "Looking at the mean rental sale according to regions, Kiambaa has the lowest average price while Langata leads. The same applies to standard deviation."
   ]
  },
  {
   "cell_type": "code",
   "execution_count": null,
   "id": "4b35b9be",
   "metadata": {},
   "outputs": [],
   "source": [
    "print(other_regions.groupby('region')['rental_price']\\\n",
    "        .agg(['mean', 'std']).dropna())"
   ]
  },
  {
   "cell_type": "code",
   "execution_count": null,
   "id": "8389ce4f",
   "metadata": {},
   "outputs": [],
   "source": []
  },
  {
   "cell_type": "markdown",
   "id": "02663e9f",
   "metadata": {},
   "source": [
    "## Visualizing Distribution\n",
    "\n",
    "Boxplot will be used to visualize the distribution of rental prices in these regions. `rental_price` will be on the horizontal axis while the `region` on the vertical axis.\n",
    "\n",
    "- The distribution of Nyali and Kiambu Road look slightly higher than in Langata while the distribution in Kiambaa is the lowest. However, the question is, how significant are these differences?"
   ]
  },
  {
   "cell_type": "code",
   "execution_count": null,
   "id": "536a39a7",
   "metadata": {},
   "outputs": [],
   "source": [
    "sns.boxplot(data=other_regions.dropna(), \n",
    "            x='rental_price',\n",
    "            y='region')\n",
    "plt.show()"
   ]
  },
  {
   "cell_type": "markdown",
   "id": "84971ded",
   "metadata": {},
   "source": [
    "## General Difference\n",
    "\n",
    "Here, the significance level is set at 0.1. Then use `pinguoin.anova()` to compare the values across multiple groups. The p-value $5.98\\times 10^{-8}$ is less than the significance value of 0.1 thus null hypothesis of these regions having similar rental prices is rejected. Conclusion can thus be made that at least two of these regions have significant difference between their rental prices. "
   ]
  },
  {
   "cell_type": "code",
   "execution_count": null,
   "id": "da02d54d",
   "metadata": {},
   "outputs": [],
   "source": [
    "print(pingouin.anova(data=other_regions, \n",
    "               dv='rental_price', \n",
    "               between='region'))"
   ]
  },
  {
   "cell_type": "markdown",
   "id": "d1ace8a8",
   "metadata": {},
   "source": [
    "## Pairwise Difference Test\n",
    "\n",
    "To identify regions which are different we compare all the four regions, testing each pair in turn. In other words, performing a total of eight tests. To do this in one go, the appropriate method will be `.pairwise_ttest()`, setting the argument `p-adjust` to `'bonf'`. This is because if we run one test, the chances of false positive is 10%. With more groups, it's almost guaranteed that there will at least one false positive. The Bonferroni correction is an adjustment that increase the p-values thus reducing the chances of false positive. \n",
    "\n",
    "- Looking at the uncorrected p-values (`p-unc`) and corrected p-values (`p-corr`) the number of pairs with significant difference remains the same. These significant difference are between:\n",
    "\n",
    "    - Kiambaa and Nyali,\n",
    "    \n",
    "    - Kiambaa and Kiambu road\n",
    "    \n",
    "    - Kiambaa and Langata\n",
    "    \n",
    "The results shouldn't be surprising because from the average price Kiambaa was about 36K while the average rental prices in other regions were between 60K to 72K"
   ]
  },
  {
   "cell_type": "code",
   "execution_count": null,
   "id": "46aa0bc6",
   "metadata": {},
   "outputs": [],
   "source": [
    "pairwise_anova = pingouin.pairwise_ttests(data=other_regions, \n",
    "                                          dv='rental_price',\n",
    "                                          between='region', \n",
    "                                          padjust='bonf')\n",
    "print(pairwise_anova)"
   ]
  },
  {
   "cell_type": "code",
   "execution_count": null,
   "id": "a12dec19",
   "metadata": {},
   "outputs": [],
   "source": []
  },
  {
   "cell_type": "code",
   "execution_count": null,
   "id": "e2983a94",
   "metadata": {},
   "outputs": [],
   "source": []
  },
  {
   "cell_type": "code",
   "execution_count": null,
   "id": "dd9eb598",
   "metadata": {},
   "outputs": [],
   "source": []
  },
  {
   "cell_type": "code",
   "execution_count": null,
   "id": "dd39e1e2",
   "metadata": {},
   "outputs": [],
   "source": []
  },
  {
   "cell_type": "code",
   "execution_count": null,
   "id": "53399001",
   "metadata": {},
   "outputs": [],
   "source": []
  },
  {
   "cell_type": "code",
   "execution_count": null,
   "id": "f47d8e52",
   "metadata": {},
   "outputs": [],
   "source": []
  },
  {
   "cell_type": "markdown",
   "id": "66cd0755",
   "metadata": {},
   "source": [
    "What's the correlation between rental price and the house square metric"
   ]
  },
  {
   "cell_type": "code",
   "execution_count": null,
   "id": "41a02bed",
   "metadata": {},
   "outputs": [],
   "source": [
    "correlations = rental_aprt.corr()\n",
    "sns.heatmap(correlations, annot=True)\n",
    "plt.show()"
   ]
  },
  {
   "cell_type": "code",
   "execution_count": null,
   "id": "d6c5905a",
   "metadata": {},
   "outputs": [],
   "source": [
    "\n",
    "sns.regplot(data=a, x='sq_mtrs', y='rental_price', ci=None)"
   ]
  },
  {
   "cell_type": "code",
   "execution_count": null,
   "id": "9f767ad9",
   "metadata": {},
   "outputs": [],
   "source": [
    "centering = lambda x: x - x.mean()\n",
    "a = rental_aprt.drop('region', axis=1).apply(centering)"
   ]
  },
  {
   "cell_type": "code",
   "execution_count": null,
   "id": "72b89ead",
   "metadata": {},
   "outputs": [],
   "source": [
    "a"
   ]
  },
  {
   "cell_type": "markdown",
   "id": "f3d2af8f",
   "metadata": {},
   "source": [
    "## Question\n",
    "\n",
    "The first question is "
   ]
  },
  {
   "cell_type": "code",
   "execution_count": null,
   "id": "a4999f89",
   "metadata": {},
   "outputs": [],
   "source": []
  },
  {
   "cell_type": "code",
   "execution_count": null,
   "id": "c780ff2c",
   "metadata": {},
   "outputs": [],
   "source": [
    "rental_aprt.groupby('region')['rental_price']\\\n",
    "        .mean()\\\n",
    "        .sort_values().plot(kind='barh',\n",
    "                            title='Average House Rent Price per Region')\n",
    "plt.xlabel('Average price (KSh)')\n",
    "plt.show()"
   ]
  },
  {
   "cell_type": "code",
   "execution_count": null,
   "id": "a6c4a2c5",
   "metadata": {},
   "outputs": [],
   "source": []
  },
  {
   "cell_type": "code",
   "execution_count": null,
   "id": "cd928b99",
   "metadata": {},
   "outputs": [],
   "source": [
    "hist_dist('Westlands', 'rental_price', 'hist')"
   ]
  }
 ],
 "metadata": {
  "kernelspec": {
   "display_name": "Python 3 (ipykernel)",
   "language": "python",
   "name": "python3"
  },
  "language_info": {
   "codemirror_mode": {
    "name": "ipython",
    "version": 3
   },
   "file_extension": ".py",
   "mimetype": "text/x-python",
   "name": "python",
   "nbconvert_exporter": "python",
   "pygments_lexer": "ipython3",
   "version": "3.8.13"
  },
  "toc": {
   "base_numbering": 1,
   "nav_menu": {},
   "number_sections": true,
   "sideBar": true,
   "skip_h1_title": false,
   "title_cell": "Table of Contents",
   "title_sidebar": "Contents",
   "toc_cell": false,
   "toc_position": {
    "height": "calc(100% - 180px)",
    "left": "10px",
    "top": "150px",
    "width": "165px"
   },
   "toc_section_display": true,
   "toc_window_display": true
  },
  "varInspector": {
   "cols": {
    "lenName": 16,
    "lenType": 16,
    "lenVar": 40
   },
   "kernels_config": {
    "python": {
     "delete_cmd_postfix": "",
     "delete_cmd_prefix": "del ",
     "library": "var_list.py",
     "varRefreshCmd": "print(var_dic_list())"
    },
    "r": {
     "delete_cmd_postfix": ") ",
     "delete_cmd_prefix": "rm(",
     "library": "var_list.r",
     "varRefreshCmd": "cat(var_dic_list()) "
    }
   },
   "types_to_exclude": [
    "module",
    "function",
    "builtin_function_or_method",
    "instance",
    "_Feature"
   ],
   "window_display": false
  }
 },
 "nbformat": 4,
 "nbformat_minor": 5
}
