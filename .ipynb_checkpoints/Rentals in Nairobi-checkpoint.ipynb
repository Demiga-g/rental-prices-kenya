{
 "cells": [
  {
   "cell_type": "markdown",
   "id": "83cfbd05",
   "metadata": {},
   "source": [
    "# **Kenya Housing Value Details**\n",
    "\n",
    "Among the worst hit sectors due to Covid-19 was the real estate. According to the data provided by the [Kenya Property Center](https://kenyapropertycentre.com/market-trends/average-prices), Nairobi tops the list of county with an average high of KSh 70,000 per month in rental houses followed by Mombasa and Kilifi with an average of KSh 40,000 per month. Based on towns, Lavington, Karen, an Westlands top the list with an average monthly rental charges of KSh 210K, KSh 150K, and 130K respectively. The dataset of interest is obtained [here](https://www.kaggle.com/datasets/iamasteriix/rental-apartments-in-kenya)."
   ]
  },
  {
   "cell_type": "code",
   "execution_count": 1,
   "id": "29d63f1d",
   "metadata": {
    "scrolled": true
   },
   "outputs": [
    {
     "data": {
      "text/html": [
       "<div>\n",
       "<style scoped>\n",
       "    .dataframe tbody tr th:only-of-type {\n",
       "        vertical-align: middle;\n",
       "    }\n",
       "\n",
       "    .dataframe tbody tr th {\n",
       "        vertical-align: top;\n",
       "    }\n",
       "\n",
       "    .dataframe thead th {\n",
       "        text-align: right;\n",
       "    }\n",
       "</style>\n",
       "<table border=\"1\" class=\"dataframe\">\n",
       "  <thead>\n",
       "    <tr style=\"text-align: right;\">\n",
       "      <th></th>\n",
       "      <th>Agency</th>\n",
       "      <th>Neighborhood</th>\n",
       "      <th>Price</th>\n",
       "      <th>link</th>\n",
       "      <th>sq_mtrs</th>\n",
       "      <th>Bedrooms</th>\n",
       "      <th>Bathrooms</th>\n",
       "    </tr>\n",
       "  </thead>\n",
       "  <tbody>\n",
       "    <tr>\n",
       "      <th>0</th>\n",
       "      <td>Buy Rent Shelters</td>\n",
       "      <td>General Mathenge, Westlands</td>\n",
       "      <td>KSh 155,000</td>\n",
       "      <td>/listings/4-bedroom-apartment-for-rent-general...</td>\n",
       "      <td>4.0</td>\n",
       "      <td>4.0</td>\n",
       "      <td>4.0</td>\n",
       "    </tr>\n",
       "    <tr>\n",
       "      <th>1</th>\n",
       "      <td>Kenya Classic Homes</td>\n",
       "      <td>Kilimani, Dagoretti North</td>\n",
       "      <td>KSh 100,000</td>\n",
       "      <td>/listings/3-bedroom-apartment-for-rent-kiliman...</td>\n",
       "      <td>300.0</td>\n",
       "      <td>3.0</td>\n",
       "      <td>4.0</td>\n",
       "    </tr>\n",
       "    <tr>\n",
       "      <th>2</th>\n",
       "      <td>Absolute Estate Agents</td>\n",
       "      <td>Hatheru Rd,, Lavington, Dagoretti North</td>\n",
       "      <td>KSh 75,000</td>\n",
       "      <td>/listings/3-bedroom-apartment-for-rent-lavingt...</td>\n",
       "      <td>3.0</td>\n",
       "      <td>3.0</td>\n",
       "      <td>5.0</td>\n",
       "    </tr>\n",
       "    <tr>\n",
       "      <th>3</th>\n",
       "      <td>A1 Properties Limited</td>\n",
       "      <td>Kilimani, Dagoretti North</td>\n",
       "      <td>KSh 135,000</td>\n",
       "      <td>/listings/3-bedroom-apartment-for-rent-kiliman...</td>\n",
       "      <td>227.0</td>\n",
       "      <td>3.0</td>\n",
       "      <td>4.0</td>\n",
       "    </tr>\n",
       "    <tr>\n",
       "      <th>4</th>\n",
       "      <td>Pmc Estates Limited</td>\n",
       "      <td>Imara Daima, Embakasi</td>\n",
       "      <td>KSh 50,000</td>\n",
       "      <td>/listings/3-bedroom-apartment-for-rent-imara-d...</td>\n",
       "      <td>3.0</td>\n",
       "      <td>3.0</td>\n",
       "      <td>NaN</td>\n",
       "    </tr>\n",
       "  </tbody>\n",
       "</table>\n",
       "</div>"
      ],
      "text/plain": [
       "                   Agency                             Neighborhood  \\\n",
       "0       Buy Rent Shelters              General Mathenge, Westlands   \n",
       "1     Kenya Classic Homes                Kilimani, Dagoretti North   \n",
       "2  Absolute Estate Agents  Hatheru Rd,, Lavington, Dagoretti North   \n",
       "3   A1 Properties Limited                Kilimani, Dagoretti North   \n",
       "4     Pmc Estates Limited                    Imara Daima, Embakasi   \n",
       "\n",
       "         Price                                               link  sq_mtrs  \\\n",
       "0  KSh 155,000  /listings/4-bedroom-apartment-for-rent-general...      4.0   \n",
       "1  KSh 100,000  /listings/3-bedroom-apartment-for-rent-kiliman...    300.0   \n",
       "2   KSh 75,000  /listings/3-bedroom-apartment-for-rent-lavingt...      3.0   \n",
       "3  KSh 135,000  /listings/3-bedroom-apartment-for-rent-kiliman...    227.0   \n",
       "4   KSh 50,000  /listings/3-bedroom-apartment-for-rent-imara-d...      3.0   \n",
       "\n",
       "   Bedrooms  Bathrooms  \n",
       "0       4.0        4.0  \n",
       "1       3.0        4.0  \n",
       "2       3.0        5.0  \n",
       "3       3.0        4.0  \n",
       "4       3.0        NaN  "
      ]
     },
     "execution_count": 1,
     "metadata": {},
     "output_type": "execute_result"
    }
   ],
   "source": [
    "import pandas as pd\n",
    "import numpy as np\n",
    "import seaborn as sns\n",
    "import matplotlib.pyplot as plt\n",
    "%matplotlib inline\n",
    "sns.set_style('whitegrid')\n",
    "from scipy.stats import norm\n",
    "\n",
    "apt_rents = pd.read_csv('rent_apts.csv')\n",
    "apt_rents.head()"
   ]
  },
  {
   "cell_type": "markdown",
   "id": "b4cbcb43",
   "metadata": {},
   "source": [
    "# **Data Cleaning & Selection** \n",
    "\n",
    "From the data, the variables of interest are Neighborhood, Price, House size (sq_mtrs), number of bedrooms and bathrooms. However, before analysis, some cleaning is in order. As a starting point, only two variables will be considered$-$`Neighborhood` and `Price`. The remaining adjustments will be considered as analysis goes by."
   ]
  },
  {
   "cell_type": "code",
   "execution_count": 2,
   "id": "85796551",
   "metadata": {
    "scrolled": false
   },
   "outputs": [
    {
     "name": "stdout",
     "output_type": "stream",
     "text": [
      "<class 'pandas.core.frame.DataFrame'>\n",
      "RangeIndex: 1848 entries, 0 to 1847\n",
      "Data columns (total 7 columns):\n",
      " #   Column        Non-Null Count  Dtype  \n",
      "---  ------        --------------  -----  \n",
      " 0   Agency        1848 non-null   object \n",
      " 1   Neighborhood  1848 non-null   object \n",
      " 2   Price         1848 non-null   object \n",
      " 3   link          1848 non-null   object \n",
      " 4   sq_mtrs       1846 non-null   float64\n",
      " 5   Bedrooms      1845 non-null   float64\n",
      " 6   Bathrooms     1557 non-null   float64\n",
      "dtypes: float64(3), object(4)\n",
      "memory usage: 101.2+ KB\n"
     ]
    }
   ],
   "source": [
    "apt_rents.info()"
   ]
  },
  {
   "cell_type": "markdown",
   "id": "c5e1fe33",
   "metadata": {},
   "source": [
    "## Neighborhood\n",
    "\n",
    "The `Neighborhood` variable contains the location of these houses. A look at these values shows that there are over 600 unique places. However, the interest is on specific locations."
   ]
  },
  {
   "cell_type": "code",
   "execution_count": 3,
   "id": "5cc698ff",
   "metadata": {
    "scrolled": true
   },
   "outputs": [
    {
     "data": {
      "text/plain": [
       "647"
      ]
     },
     "execution_count": 3,
     "metadata": {},
     "output_type": "execute_result"
    }
   ],
   "source": [
    "len(apt_rents.Neighborhood.unique())"
   ]
  },
  {
   "cell_type": "markdown",
   "id": "fab52b34",
   "metadata": {},
   "source": [
    "Here, we create a column `region` which we take the last name which most represent constituency with a few exceptions of places like 'Mombasa Rd' among others. Now out of 647 unique Neighborhoods there are only 37 unique neighborhoods stored in the column `region`. Note that whitespace is removed."
   ]
  },
  {
   "cell_type": "code",
   "execution_count": 4,
   "id": "d6ef1f69",
   "metadata": {},
   "outputs": [
    {
     "name": "stdout",
     "output_type": "stream",
     "text": [
      "number of regions: 37 \n",
      "\n",
      "0          Westlands\n",
      "1    Dagoretti North\n",
      "2    Dagoretti North\n",
      "3    Dagoretti North\n",
      "4           Embakasi\n",
      "Name: region, dtype: object\n"
     ]
    }
   ],
   "source": [
    "get_region = lambda x: x.rpartition(',')[-1]\n",
    "remove_space = lambda x: x.strip()\n",
    "\n",
    "apt_rents['region'] = apt_rents.Neighborhood\\\n",
    "                .apply(get_region)\\\n",
    "                .apply(remove_space)\n",
    "\n",
    "print('number of regions:', len(apt_rents.region.unique()), '\\n')\n",
    "print(apt_rents.region.head())"
   ]
  },
  {
   "cell_type": "markdown",
   "id": "c6262941",
   "metadata": {},
   "source": [
    "## Rental Prices\n",
    "\n",
    "The `Price` variables also need some adjustments to convert it from an `Object` data type to integer. To do this the comma and the `KSh` currency symbol are removed."
   ]
  },
  {
   "cell_type": "code",
   "execution_count": 5,
   "id": "84ad0844",
   "metadata": {},
   "outputs": [
    {
     "name": "stdout",
     "output_type": "stream",
     "text": [
      "0    155000\n",
      "1    100000\n",
      "2     75000\n",
      "3    135000\n",
      "4     50000\n",
      "Name: rental_price, dtype: int64\n"
     ]
    }
   ],
   "source": [
    "remove_character = lambda x: x.translate({ord(c): None for c in \",KSh\"})\n",
    "\n",
    "apt_rents['rental_price'] = apt_rents.Price.apply(remove_character)\n",
    "apt_rents['rental_price'] = apt_rents['rental_price'].astype('int64')\n",
    "\n",
    "print(apt_rents.rental_price.head())\n",
    "assert apt_rents.rental_price.dtype == 'int64'"
   ]
  },
  {
   "cell_type": "markdown",
   "id": "d88d27e1",
   "metadata": {},
   "source": [
    "## Data Selection\n",
    "\n",
    "The variables `Agency` and `link` won't be of use in this analysis but they provide some useful information to buyers. Onwards, the data for analysis is stored in `rental_aprt` DataFrame."
   ]
  },
  {
   "cell_type": "code",
   "execution_count": 6,
   "id": "fd5f4318",
   "metadata": {
    "scrolled": false
   },
   "outputs": [
    {
     "name": "stdout",
     "output_type": "stream",
     "text": [
      "            region  rental_price  sq_mtrs  Bedrooms  Bathrooms\n",
      "0        Westlands        155000      4.0       4.0        4.0\n",
      "1  Dagoretti North        100000    300.0       3.0        4.0\n",
      "2  Dagoretti North         75000      3.0       3.0        5.0\n",
      "3  Dagoretti North        135000    227.0       3.0        4.0\n",
      "4         Embakasi         50000      3.0       3.0        NaN\n"
     ]
    }
   ],
   "source": [
    "rental_aprt = apt_rents[['region', 'rental_price', 'sq_mtrs', 'Bedrooms', 'Bathrooms']]\n",
    "\n",
    "\n",
    "print(rental_aprt.head())"
   ]
  },
  {
   "cell_type": "markdown",
   "id": "1019e333",
   "metadata": {},
   "source": [
    "## Further Selection\n",
    "\n",
    "This analysis will be based on regions. Therefore, to use parametric analysis, each `region` should have about 30 entries across the variables. Going by this assumptions, only 6 regions meet the requirement."
   ]
  },
  {
   "cell_type": "code",
   "execution_count": 7,
   "id": "874dda7e",
   "metadata": {},
   "outputs": [
    {
     "name": "stdout",
     "output_type": "stream",
     "text": [
      "Count of regions with more than 30 entries: 6\n"
     ]
    }
   ],
   "source": [
    "thirty_more = (rental_aprt.region.value_counts() >= 30).sum()\n",
    "print(f'Count of regions with more than 30 entries: {thirty_more}')"
   ]
  },
  {
   "cell_type": "markdown",
   "id": "b1a54b1e",
   "metadata": {},
   "source": [
    "Therefore, sub-setting is in order. Here, a list that contains regions with 30 entries across the variables, `thirty_entries` is obtained and then used to subset the DataFrame. Note that the local variable `thirty_more` which was defined previously is used to obtain only the names of regions which met the 30 data entries threshold. It is evident that about 150 of the data entries did not meet the minimum requirement size of 30. "
   ]
  },
  {
   "cell_type": "code",
   "execution_count": 8,
   "id": "f7bdfecc",
   "metadata": {
    "scrolled": true
   },
   "outputs": [
    {
     "name": "stdout",
     "output_type": "stream",
     "text": [
      "(1698, 5)\n",
      "            region  rental_price  sq_mtrs  Bedrooms  Bathrooms\n",
      "0        Westlands        155000      4.0       4.0        4.0\n",
      "1  Dagoretti North        100000    300.0       3.0        4.0\n",
      "2  Dagoretti North         75000      3.0       3.0        5.0\n",
      "3  Dagoretti North        135000    227.0       3.0        4.0\n",
      "5        Westlands        150000      2.0       2.0        NaN\n"
     ]
    }
   ],
   "source": [
    "thirty_entries = rental_aprt.region\\\n",
    "                .value_counts()\\\n",
    "                .index\\\n",
    "                .to_list()[:thirty_more]\n",
    "\n",
    "rental_aprt = rental_aprt[rental_aprt.region.isin(thirty_entries)]\n",
    "print(rental_aprt.shape)\n",
    "print(rental_aprt.head())"
   ]
  },
  {
   "cell_type": "markdown",
   "id": "a735ae22",
   "metadata": {},
   "source": [
    "## Handling Missing Values\n",
    "\n",
    "Checking the missing values it is evident that `Bedrooms` and `sq_mtrs` have 3 and 2 missing values respectively. However, `Bathroom` has a large number of missing values 262."
   ]
  },
  {
   "cell_type": "code",
   "execution_count": 9,
   "id": "b9c3084e",
   "metadata": {},
   "outputs": [
    {
     "data": {
      "text/plain": [
       "region            0\n",
       "rental_price      0\n",
       "sq_mtrs           2\n",
       "Bedrooms          3\n",
       "Bathrooms       262\n",
       "dtype: int64"
      ]
     },
     "execution_count": 9,
     "metadata": {},
     "output_type": "execute_result"
    }
   ],
   "source": [
    "rental_aprt.isna().sum()"
   ]
  },
  {
   "cell_type": "markdown",
   "id": "33672390",
   "metadata": {},
   "source": [
    "To handle this, the `region` column is dropped and an imputer used to compute a value for the median number of `sq_mtrs`, `bedrooms`, and `bathrooms`. Median used because it is robust when it comes to outliers. However, the data type is `Object` which presents some challenges during analysis. Therefore, it has to be converted to categorical data."
   ]
  },
  {
   "cell_type": "code",
   "execution_count": 23,
   "id": "269825df",
   "metadata": {},
   "outputs": [
    {
     "name": "stdout",
     "output_type": "stream",
     "text": [
      "            region  rental_price  sq_mtrs  Bedrooms  Bathrooms\n",
      "0        Westlands        155000      4.0       4.0        4.0\n",
      "1  Dagoretti North        100000    300.0       3.0        4.0\n",
      "2  Dagoretti North         75000      3.0       3.0        5.0\n",
      "3  Dagoretti North        135000    227.0       3.0        4.0\n",
      "5        Westlands        150000      2.0       2.0        2.0\n"
     ]
    }
   ],
   "source": [
    "rental_aprt.fillna(rental_aprt.drop('region', axis=1).median(),\\\n",
    "                   inplace=True)\n",
    "rental_aprt['region'] = rental_aprt.region.astype('category')\n",
    "print(rental_aprt.head())"
   ]
  },
  {
   "cell_type": "markdown",
   "id": "fff9f531",
   "metadata": {},
   "source": [
    "# **Data Analysis**"
   ]
  },
  {
   "cell_type": "markdown",
   "id": "e32c53dd",
   "metadata": {},
   "source": [
    "## Setting Significance Level\n",
    "\n",
    "The significance level is set at 0.1. That is, if 10 out of 100 houses are priced at 100K, $H_0$ is accepted or else otherwise. "
   ]
  },
  {
   "cell_type": "code",
   "execution_count": 86,
   "id": "63822453",
   "metadata": {},
   "outputs": [],
   "source": [
    "alpha = 0.1"
   ]
  },
  {
   "cell_type": "markdown",
   "id": "1c81cae3",
   "metadata": {},
   "source": [
    "## Formulating Hypothesis Statement\n",
    "\n",
    "The hypothesized average rental prices in these 6 regions is KSh 100K. The value arrived at after finding the median which is robust to variability. Therefore, \n",
    "\n",
    "$H_0$: The average house rent price is KSh 100K. \n",
    "\n",
    "$H_A$: The average house rent price is higher than KSh 100K because the prices in real estate are currently going up."
   ]
  },
  {
   "cell_type": "code",
   "execution_count": 67,
   "id": "bac09c96",
   "metadata": {},
   "outputs": [
    {
     "data": {
      "text/plain": [
       "100000.0"
      ]
     },
     "execution_count": 67,
     "metadata": {},
     "output_type": "execute_result"
    }
   ],
   "source": [
    "hypothesized_price = rental_aprt.rental_price.median()\n",
    "hypothesized_price"
   ]
  },
  {
   "cell_type": "markdown",
   "id": "38778689",
   "metadata": {},
   "source": [
    "## Calculating Point Estimate\n",
    "\n",
    "Let's begin our analysis by calculating a point estimate (or sample statistic), namely the proportion of rental prices."
   ]
  },
  {
   "cell_type": "code",
   "execution_count": 68,
   "id": "fe69deda",
   "metadata": {},
   "outputs": [
    {
     "data": {
      "text/plain": [
       "101368.95936395759"
      ]
     },
     "execution_count": 68,
     "metadata": {},
     "output_type": "execute_result"
    }
   ],
   "source": [
    "sample_price = rental_aprt.rental_price.mean()\n",
    "sample_price"
   ]
  },
  {
   "cell_type": "markdown",
   "id": "bbd2d7a0",
   "metadata": {},
   "source": [
    "## Computing z-score\n",
    "\n",
    "The result is different from our hypothesis, but is it meaningfully different? To answer this we'll calculate the z-score. First, a bootstrap sample is generated."
   ]
  },
  {
   "cell_type": "code",
   "execution_count": 71,
   "id": "21952165",
   "metadata": {},
   "outputs": [],
   "source": [
    "np.random.seed(42)\n",
    "bootstrap_sample = []\n",
    "\n",
    "for _ in range(3000):\n",
    "    bootstrap = np.mean(rental_aprt.rental_price.sample(frac=1, replace=True))\n",
    "    bootstrap_sample.append(bootstrap)"
   ]
  },
  {
   "cell_type": "markdown",
   "id": "9ed8db32",
   "metadata": {},
   "source": [
    "### Visualzing the Means in Boostrap's Histogram\n",
    "\n",
    "Let's visualize our sample mean and hypothesized mean in this distribution in the bootstrap sample. Notice that the histogram is bell shaped, hence it's roughly normally distributed. Also, note that the hypothesized average house price\n",
    "is on the left of the distribution."
   ]
  },
  {
   "cell_type": "code",
   "execution_count": 78,
   "id": "4e80320c",
   "metadata": {},
   "outputs": [
    {
     "data": {
      "image/png": "[encoded data removed]",
      "text/plain": [
       "<Figure size 432x288 with 1 Axes>"
      ]
     },
     "metadata": {},
     "output_type": "display_data"
    }
   ],
   "source": [
    "plt.hist(bootstrap_sample, color='grey')\n",
    "plt.axvline([sample_price], label='sample average')\n",
    "plt.axvline([hypothesized_price], \n",
    "            label='hypothesized average',\n",
    "            color='r')\n",
    "plt.xlabel('House Prices (KSh)')\n",
    "plt.ylabel('Frequency')\n",
    "plt.legend()\n",
    "plt.show()"
   ]
  },
  {
   "cell_type": "markdown",
   "id": "a14adb9b",
   "metadata": {},
   "source": [
    "### Standardization\n",
    "\n",
    "Before performing a hypothesis test, we need to standardize the rental price values since variables have arbitrary units and ranges. For this hypothesis test, we use the z-score.\n",
    "\n",
    "$$z = \\frac{\\text{sample statistics - hypothesized parameter value}}{\\text{standard error}}$$\n",
    "\n",
    "All the values are already present except for the standard error which we'll calculate by getting the standard deviation of the bootstrap sample. After which, we'll substitute them into the equation. \n",
    "\n",
    "- Here, the standard error is 1.47. Is this a big or a small number?"
   ]
  },
  {
   "cell_type": "code",
   "execution_count": 82,
   "id": "247bd34d",
   "metadata": {},
   "outputs": [
    {
     "name": "stdout",
     "output_type": "stream",
     "text": [
      "1.4662924621401678\n"
     ]
    }
   ],
   "source": [
    "std_error = np.std(bootstrap_sample, ddof=1)\n",
    "z_score = (sample_price - hypothesized_price) / std_error\n",
    "print(z_score)"
   ]
  },
  {
   "cell_type": "markdown",
   "id": "df1b23d5",
   "metadata": {},
   "source": [
    "## Computing p-Value\n",
    "\n",
    "p-value quantify how much evidence there is for the acceptance or rejection of the null hypothesis. To compute it, the `z_score` value is passed to the standard normal CDF, `norm.cdf()`, from `scipy.stats`. For now, the defaults are left as they are: mean zero and standard deviation of one. \n",
    "\n",
    "- Here, the appropriate test will be a right tailed test. Thus, the p-value is computed by taking one minus the `norm.cdf()` result. \n",
    "\n",
    "From the result 7 out of 100 of the houses are priced at 100K. "
   ]
  },
  {
   "cell_type": "code",
   "execution_count": 85,
   "id": "0f1337f7",
   "metadata": {},
   "outputs": [
    {
     "name": "stdout",
     "output_type": "stream",
     "text": [
      "0.07128431407028146\n"
     ]
    }
   ],
   "source": [
    "p_value = 1 - norm.cdf(z_score)\n",
    "print(p_value)"
   ]
  },
  {
   "cell_type": "markdown",
   "id": "79b54ab0",
   "metadata": {},
   "source": [
    "## Making Decision\n",
    "\n",
    "The p-value is less than the alpha value. Therefore, we reject the null hypothesis. Keep in mind that this result could be a false positive (Type I) error. That is, chosing $H_A$ when $H_0$ could be the right choice."
   ]
  },
  {
   "cell_type": "code",
   "execution_count": 87,
   "id": "b1f73683",
   "metadata": {},
   "outputs": [
    {
     "data": {
      "text/plain": [
       "False"
      ]
     },
     "execution_count": 87,
     "metadata": {},
     "output_type": "execute_result"
    }
   ],
   "source": [
    "p_value > alpha"
   ]
  },
  {
   "cell_type": "markdown",
   "id": "e7f56377",
   "metadata": {},
   "source": [
    "## Computing the Confidence Interval\n",
    "\n",
    "Due to sampling variability, sample statistics are bound to be wrong by some amount. Here, the hypothesized value for rental prices is 100K while the calculated was 101K, so it is goo to state the confidence interval. Being that an $\\alpha$ of 0.1 was used, the confidence interval of $1 - \\alpha$ will be 99%. \n",
    "\n",
    "- I am 99% confident that the average rental prices is between 99K and 102K."
   ]
  },
  {
   "cell_type": "code",
   "execution_count": 90,
   "id": "51a7d502",
   "metadata": {},
   "outputs": [
    {
     "data": {
      "text/plain": [
       "(99859.14540636043, 102917.05992343933)"
      ]
     },
     "execution_count": 90,
     "metadata": {},
     "output_type": "execute_result"
    }
   ],
   "source": [
    "lower = np.quantile(bootstrap_sample, 0.05)\n",
    "upper = np.quantile(bootstrap_sample, 0.95)\n",
    "\n",
    "lower, upper"
   ]
  },
  {
   "cell_type": "markdown",
   "id": "d31415a2",
   "metadata": {},
   "source": [
    "x"
   ]
  },
  {
   "cell_type": "markdown",
   "id": "caa921c6",
   "metadata": {},
   "source": [
    "Dagoretti North and Westlands have entries above 600 while the rest have entries below 100. Therefore, the first analysis will focus on the two regions and the second one on the other two. "
   ]
  },
  {
   "cell_type": "code",
   "execution_count": 38,
   "id": "23370c88",
   "metadata": {},
   "outputs": [
    {
     "data": {
      "image/png": "[encoded data removed]",
      "text/plain": [
       "<Figure size 432x288 with 1 Axes>"
      ]
     },
     "metadata": {},
     "output_type": "display_data"
    }
   ],
   "source": [
    "rental_aprt.region\\\n",
    "        .value_counts(ascending=True)\\\n",
    "        .plot(kind='barh', \n",
    "              title='Number of house data collected based on regions',\n",
    "              xlabel='Region')\n",
    "plt.show()"
   ]
  },
  {
   "cell_type": "markdown",
   "id": "cafde956",
   "metadata": {},
   "source": [
    "The first question is "
   ]
  },
  {
   "cell_type": "code",
   "execution_count": 50,
   "id": "32552ce7",
   "metadata": {},
   "outputs": [
    {
     "data": {
      "image/png": "[encoded data removed]",
      "text/plain": [
       "<Figure size 432x288 with 1 Axes>"
      ]
     },
     "metadata": {},
     "output_type": "display_data"
    }
   ],
   "source": [
    "rental_aprt.groupby('region')['rental_price']\\\n",
    "        .mean()\\\n",
    "        .sort_values().plot(kind='barh',\n",
    "                            title='Average House Rent Price per Region')\n",
    "plt.xlabel('Average price (KSh)')\n",
    "plt.show()"
   ]
  },
  {
   "cell_type": "markdown",
   "id": "081f1f78",
   "metadata": {},
   "source": [
    "What's the correlation between rental price and the house square metric"
   ]
  },
  {
   "cell_type": "code",
   "execution_count": 55,
   "id": "fa08e7c1",
   "metadata": {},
   "outputs": [
    {
     "data": {
      "image/png": "[encoded data removed]",
      "text/plain": [
       "<Figure size 432x288 with 2 Axes>"
      ]
     },
     "metadata": {},
     "output_type": "display_data"
    }
   ],
   "source": [
    "correlations = rental_aprt.corr()\n",
    "sns.heatmap(correlations, annot=True)\n",
    "plt.show()"
   ]
  },
  {
   "cell_type": "code",
   "execution_count": 64,
   "id": "9203a912",
   "metadata": {},
   "outputs": [
    {
     "data": {
      "text/plain": [
       "<AxesSubplot:xlabel='sq_mtrs', ylabel='rental_price'>"
      ]
     },
     "execution_count": 64,
     "metadata": {},
     "output_type": "execute_result"
    },
    {
     "data": {
      "image/png": "[encoded data removed]",
      "text/plain": [
       "<Figure size 432x288 with 1 Axes>"
      ]
     },
     "metadata": {},
     "output_type": "display_data"
    }
   ],
   "source": [
    "\n",
    "sns.regplot(data=a, x='sq_mtrs', y='rental_price', ci=None)"
   ]
  },
  {
   "cell_type": "code",
   "execution_count": 62,
   "id": "f2af6304",
   "metadata": {},
   "outputs": [],
   "source": [
    "centering = lambda x: x - x.mean()\n",
    "a = rental_aprt.drop('region', axis=1).apply(centering)"
   ]
  },
  {
   "cell_type": "code",
   "execution_count": 63,
   "id": "7dc37172",
   "metadata": {},
   "outputs": [
    {
     "data": {
      "text/html": [
       "<div>\n",
       "<style scoped>\n",
       "    .dataframe tbody tr th:only-of-type {\n",
       "        vertical-align: middle;\n",
       "    }\n",
       "\n",
       "    .dataframe tbody tr th {\n",
       "        vertical-align: top;\n",
       "    }\n",
       "\n",
       "    .dataframe thead th {\n",
       "        text-align: right;\n",
       "    }\n",
       "</style>\n",
       "<table border=\"1\" class=\"dataframe\">\n",
       "  <thead>\n",
       "    <tr style=\"text-align: right;\">\n",
       "      <th></th>\n",
       "      <th>rental_price</th>\n",
       "      <th>sq_mtrs</th>\n",
       "      <th>Bedrooms</th>\n",
       "      <th>Bathrooms</th>\n",
       "    </tr>\n",
       "  </thead>\n",
       "  <tbody>\n",
       "    <tr>\n",
       "      <th>0</th>\n",
       "      <td>53631.040636</td>\n",
       "      <td>-340.256773</td>\n",
       "      <td>1.409305</td>\n",
       "      <td>1.464664</td>\n",
       "    </tr>\n",
       "    <tr>\n",
       "      <th>1</th>\n",
       "      <td>-1368.959364</td>\n",
       "      <td>-44.256773</td>\n",
       "      <td>0.409305</td>\n",
       "      <td>1.464664</td>\n",
       "    </tr>\n",
       "    <tr>\n",
       "      <th>2</th>\n",
       "      <td>-26368.959364</td>\n",
       "      <td>-341.256773</td>\n",
       "      <td>0.409305</td>\n",
       "      <td>2.464664</td>\n",
       "    </tr>\n",
       "    <tr>\n",
       "      <th>3</th>\n",
       "      <td>33631.040636</td>\n",
       "      <td>-117.256773</td>\n",
       "      <td>0.409305</td>\n",
       "      <td>1.464664</td>\n",
       "    </tr>\n",
       "    <tr>\n",
       "      <th>5</th>\n",
       "      <td>48631.040636</td>\n",
       "      <td>-342.256773</td>\n",
       "      <td>-0.590695</td>\n",
       "      <td>-0.535336</td>\n",
       "    </tr>\n",
       "    <tr>\n",
       "      <th>...</th>\n",
       "      <td>...</td>\n",
       "      <td>...</td>\n",
       "      <td>...</td>\n",
       "      <td>...</td>\n",
       "    </tr>\n",
       "    <tr>\n",
       "      <th>1843</th>\n",
       "      <td>78631.040636</td>\n",
       "      <td>-341.256773</td>\n",
       "      <td>0.409305</td>\n",
       "      <td>-0.535336</td>\n",
       "    </tr>\n",
       "    <tr>\n",
       "      <th>1844</th>\n",
       "      <td>78631.040636</td>\n",
       "      <td>-342.256773</td>\n",
       "      <td>-0.590695</td>\n",
       "      <td>-0.535336</td>\n",
       "    </tr>\n",
       "    <tr>\n",
       "      <th>1845</th>\n",
       "      <td>78631.040636</td>\n",
       "      <td>-340.256773</td>\n",
       "      <td>1.409305</td>\n",
       "      <td>2.464664</td>\n",
       "    </tr>\n",
       "    <tr>\n",
       "      <th>1846</th>\n",
       "      <td>78631.040636</td>\n",
       "      <td>-340.256773</td>\n",
       "      <td>1.409305</td>\n",
       "      <td>1.464664</td>\n",
       "    </tr>\n",
       "    <tr>\n",
       "      <th>1847</th>\n",
       "      <td>78631.040636</td>\n",
       "      <td>-342.256773</td>\n",
       "      <td>-0.590695</td>\n",
       "      <td>-0.535336</td>\n",
       "    </tr>\n",
       "  </tbody>\n",
       "</table>\n",
       "<p>1698 rows × 4 columns</p>\n",
       "</div>"
      ],
      "text/plain": [
       "      rental_price     sq_mtrs  Bedrooms  Bathrooms\n",
       "0     53631.040636 -340.256773  1.409305   1.464664\n",
       "1     -1368.959364  -44.256773  0.409305   1.464664\n",
       "2    -26368.959364 -341.256773  0.409305   2.464664\n",
       "3     33631.040636 -117.256773  0.409305   1.464664\n",
       "5     48631.040636 -342.256773 -0.590695  -0.535336\n",
       "...            ...         ...       ...        ...\n",
       "1843  78631.040636 -341.256773  0.409305  -0.535336\n",
       "1844  78631.040636 -342.256773 -0.590695  -0.535336\n",
       "1845  78631.040636 -340.256773  1.409305   2.464664\n",
       "1846  78631.040636 -340.256773  1.409305   1.464664\n",
       "1847  78631.040636 -342.256773 -0.590695  -0.535336\n",
       "\n",
       "[1698 rows x 4 columns]"
      ]
     },
     "execution_count": 63,
     "metadata": {},
     "output_type": "execute_result"
    }
   ],
   "source": [
    "a"
   ]
  },
  {
   "cell_type": "code",
   "execution_count": null,
   "id": "4f0df4cb",
   "metadata": {},
   "outputs": [],
   "source": []
  }
 ],
 "metadata": {
  "kernelspec": {
   "display_name": "Python 3 (ipykernel)",
   "language": "python",
   "name": "python3"
  },
  "language_info": {
   "codemirror_mode": {
    "name": "ipython",
    "version": 3
   },
   "file_extension": ".py",
   "mimetype": "text/x-python",
   "name": "python",
   "nbconvert_exporter": "python",
   "pygments_lexer": "ipython3",
   "version": "3.8.13"
  },
  "toc": {
   "base_numbering": 1,
   "nav_menu": {},
   "number_sections": true,
   "sideBar": true,
   "skip_h1_title": false,
   "title_cell": "Table of Contents",
   "title_sidebar": "Contents",
   "toc_cell": false,
   "toc_position": {
    "height": "calc(100% - 180px)",
    "left": "10px",
    "top": "150px",
    "width": "253.212px"
   },
   "toc_section_display": true,
   "toc_window_display": true
  },
  "varInspector": {
   "cols": {
    "lenName": 16,
    "lenType": 16,
    "lenVar": 40
   },
   "kernels_config": {
    "python": {
     "delete_cmd_postfix": "",
     "delete_cmd_prefix": "del ",
     "library": "var_list.py",
     "varRefreshCmd": "print(var_dic_list())"
    },
    "r": {
     "delete_cmd_postfix": ") ",
     "delete_cmd_prefix": "rm(",
     "library": "var_list.r",
     "varRefreshCmd": "cat(var_dic_list()) "
    }
   },
   "types_to_exclude": [
    "module",
    "function",
    "builtin_function_or_method",
    "instance",
    "_Feature"
   ],
   "window_display": false
  }
 },
 "nbformat": 4,
 "nbformat_minor": 5
}
